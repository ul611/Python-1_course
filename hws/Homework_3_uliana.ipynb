{
 "cells": [
  {
   "cell_type": "markdown",
   "id": "811efe1f",
   "metadata": {},
   "source": [
    "#### Треугольник\n",
    "Написать класс для треугольника на плоскости **Triangle**. В классе всего 3 поля - длины\n",
    "сторон. Нужно написать следующие методы:\n",
    "1. Конструктор. (​​__init__(self, l1, l2, l3)​). Должен проверять, можно ли создать такой треугольник. Если нельзя - бросает эксепшн (материал об этом будет на будущей лекции).\n",
    "2. Периметр (​​perimeter(self)​​). Считает и возвращает периметр треугольника.\n",
    "3. Площадь (​​area(self)​​). Считает и возвращает площадь.\n",
    "4. Равнобедренный ли (isosceles(self)​​). Возвращает True, если треугольник равнобедренный.\n",
    "5. Равносторонний ли (equilateral(self)​​). Возвращает True, если треугольник равносторонний.\n",
    "6. Равен ли другому треугольнику. (Перегрузить проверку на равенство)"
   ]
  },
  {
   "cell_type": "code",
   "execution_count": 5,
   "id": "f99fa355",
   "metadata": {},
   "outputs": [],
   "source": [
    "class Triangle:\n",
    "    def __init__(self, l1, l2, l3):\n",
    "        if not (l1 + l2 > l3 and  l3 + l2 > l1 and l1 + l3 > l2):\n",
    "            raise ValueError('Invalid lenghts')\n",
    "        self.l1 = l1\n",
    "        self.l2 = l2\n",
    "        self.l3 = l3\n",
    "    \n",
    "    def perimeter(self):\n",
    "        return self.l1 + self.l2 + self.l3\n",
    "    \n",
    "    def area(self):\n",
    "        p = self.perimeter() / 2\n",
    "        return (p * (p - self.l1) * (p - self.l2) * (p - self.l3)) ** 0.5\n",
    "    \n",
    "    def isosceles(self):\n",
    "        return (self.l1 == self.l2 or self.l1 == self.l3 or self.l3 == self.l2)\n",
    "    \n",
    "    def equilateral(self):\n",
    "        return self.l1 == self.l2 == self.l3\n",
    "    \n",
    "    def __eq__(self, triangle2):\n",
    "        return {self.l1, self.l2, self.l3} == {triangle2.l1, triangle2.l2, triangle2.l3}"
   ]
  },
  {
   "cell_type": "code",
   "execution_count": 6,
   "id": "b495af38",
   "metadata": {},
   "outputs": [],
   "source": [
    "#Triangle(1,2,3)"
   ]
  },
  {
   "cell_type": "code",
   "execution_count": 7,
   "id": "1a934e03",
   "metadata": {},
   "outputs": [],
   "source": [
    "tr1 = Triangle(2, 2, 3)"
   ]
  },
  {
   "cell_type": "code",
   "execution_count": 8,
   "id": "0fb8da5b",
   "metadata": {},
   "outputs": [
    {
     "data": {
      "text/plain": [
       "True"
      ]
     },
     "execution_count": 8,
     "metadata": {},
     "output_type": "execute_result"
    }
   ],
   "source": [
    "tr1 == Triangle(3, 2, 2)"
   ]
  },
  {
   "cell_type": "markdown",
   "id": "e8d3b173",
   "metadata": {},
   "source": [
    "#### Окружность\n",
    "Написать класс для окружности на плоскости **Circle**. У класса два поля - координаты и\n",
    "радиус. Координаты задаются массивом из двух чисел. Нужно написать методы:\n",
    "1. Конструктор со значениями по умолчанию (​​ _ _init _ _(self, coords, r)​​)\n",
    "2. Площадь (​​area(self)​​). Считает и возвращает площадь.\n",
    "3. Периметр (​​perimeter(self)​​). Считает и возвращает периметр.\n",
    "4. Переместить круг в конкретную точку (​​move_to_point(self, coords)​​)\n",
    "5. Изменить радиус (​​set_radius(self, r)​​)\n",
    "6. Определить, пересекается ли окружность с другой (перегрузить &)\n",
    "7. Определить, находится окружность внутри другой полностью (перегрузить <, >, =)"
   ]
  },
  {
   "cell_type": "code",
   "execution_count": 9,
   "id": "e2f20922",
   "metadata": {},
   "outputs": [],
   "source": [
    "import math"
   ]
  },
  {
   "cell_type": "code",
   "execution_count": 10,
   "id": "5de54ef9",
   "metadata": {},
   "outputs": [],
   "source": [
    "class Circle:\n",
    "    def __init__(self, coords, r):\n",
    "        self.coords = coords\n",
    "        self.r = r\n",
    "    \n",
    "    def area(self):\n",
    "        return  math.pi * self.r**2\n",
    "    \n",
    "    def perimeter(self):\n",
    "        return 2 * math.pi * self.r\n",
    "    \n",
    "    def move_to_point(self, coords):\n",
    "        self.coords = coords\n",
    "    \n",
    "    def set_radius(self, r):\n",
    "        self.r = r\n",
    "    \n",
    "    def __and__(self, other):\n",
    "        # http://algolist.ru/maths/geom/intersect/circlecircle2d.php\n",
    "        # расстояние между центрами окружностей\n",
    "        d = ((self.coords[0] - other.coords[0]) ** 2 + (self.coords[1] - other.coords[1]) ** 2) ** 0.5\n",
    "        return (d < self.r + other.r) and (d > max(self.r, other.r) - min(self.r, other.r))\n",
    "    \n",
    "    def __eq__(self, other):\n",
    "        # self = other\n",
    "        return (self.coords == other.coords and self.r == other.r)\n",
    "    \n",
    "    def __lt__(self, other):\n",
    "        d = ((self.coords[0] - other.coords[0]) ** 2 + (self.coords[1] - other.coords[1]) ** 2) ** 0.5\n",
    "        # self < other \n",
    "        return (d + self.r < other.r)\n",
    "    \n",
    "    def __gt__(self, other):\n",
    "        d = ((self.coords[0] - other.coords[0]) ** 2 + (self.coords[1] - other.coords[1]) ** 2) ** 0.5\n",
    "        # self > other \n",
    "        return (d + other.r < self.r)\n",
    "    "
   ]
  },
  {
   "cell_type": "code",
   "execution_count": 11,
   "id": "ad68d188",
   "metadata": {},
   "outputs": [],
   "source": [
    "c = Circle([1, 2], 5)"
   ]
  },
  {
   "cell_type": "code",
   "execution_count": 12,
   "id": "92cb0d16",
   "metadata": {},
   "outputs": [],
   "source": [
    "c.move_to_point([1, 3])"
   ]
  },
  {
   "cell_type": "code",
   "execution_count": 13,
   "id": "43068705",
   "metadata": {},
   "outputs": [],
   "source": [
    "c.set_radius(3)"
   ]
  },
  {
   "cell_type": "code",
   "execution_count": 14,
   "id": "e77243fd",
   "metadata": {
    "scrolled": true
   },
   "outputs": [
    {
     "data": {
      "text/plain": [
       "True"
      ]
     },
     "execution_count": 14,
     "metadata": {},
     "output_type": "execute_result"
    }
   ],
   "source": [
    "c & Circle([2, 3], 3)"
   ]
  },
  {
   "cell_type": "code",
   "execution_count": 15,
   "id": "433252c3",
   "metadata": {},
   "outputs": [
    {
     "data": {
      "text/plain": [
       "True"
      ]
     },
     "execution_count": 15,
     "metadata": {},
     "output_type": "execute_result"
    }
   ],
   "source": [
    "c > Circle([1, 3], 2)"
   ]
  },
  {
   "cell_type": "markdown",
   "id": "0684f917",
   "metadata": {},
   "source": [
    "#### Товар\n",
    "Написать класс **Item** для различных товаров, которые могут быть в магазине (нужно для\n",
    "следующего задания). Например компьютер, экран, мышка, флешка, телефон. Атрибуты\n",
    "передаются в конструкторе.\n",
    "\n",
    "Поля:\n",
    "- Name (название товара)\n",
    "- Price (цена товара)\n",
    "- Category (категория товара (Смартфон, Носки, Ноутбук))"
   ]
  },
  {
   "cell_type": "code",
   "execution_count": 16,
   "id": "bb9636d7",
   "metadata": {},
   "outputs": [],
   "source": [
    "class Item:\n",
    "    def __init__(self, name, price, category):\n",
    "        self.name = name\n",
    "        self.price = price\n",
    "        self.category = category\n",
    "    \n",
    "    def __eq__(self, other):\n",
    "        return self.name == other.name and self.price == other.price and self.category == other.category\n",
    "    \n",
    "    def __str__(self):\n",
    "        return f'{self.name}: категория {self.category}, стоимость {self.price} единиц'\n",
    "    \n",
    "    __repr__ = __str__"
   ]
  },
  {
   "cell_type": "markdown",
   "id": "508c1287",
   "metadata": {},
   "source": [
    "#### Магазин товаров\n",
    "Написать класс магазина **Shop**. \n",
    "\n",
    "Методы:\n",
    "- Добавить новый товар (**add(self, item)**)\n",
    "- Узнать количество товаров определенного вида (**count_category(self, category)**). Возвращает количество товаров.\n",
    "- Искать товары по параметрам: диапазон цены, список категорий (**find_items(self, price_bounds, categories)**). Возвращает список товаров.\n",
    "-- price_bounds - ​список длины 2. Левый, правый, или оба конца price_bounds ​могут быть не заданы (передано\n",
    "None), это значит, что искать нужно подставлять -inf, inf или [-inf, inf ] соответственно.\n",
    "-- сategories - ​список категорий.\n",
    "сategories​​ может быть не задано (None) - это значит, искать нужно по всем\n",
    "категориям.\n",
    "- Узнать общую стоимость товаров по видам и общую стоимость всех товаров (**get_full_price(self, categories)**). Возвращает стоимость.\n",
    "-- сategories - ​список категорий. может быть не задано - это значит, искать нужно по всем категориям.\n",
    "- Узнать наличие конкретного товара (**is_available(item)**). Возвращает True/False.\n",
    "-- item​​ - объект класса Item\n",
    "- Обязательно перегрузить **in** или **равенство для товаров** (в зависимости от реализации класса Shop)."
   ]
  },
  {
   "cell_type": "code",
   "execution_count": 17,
   "id": "f178b1d3",
   "metadata": {},
   "outputs": [],
   "source": [
    "class Shop:\n",
    "    def __init__(self):\n",
    "        self.goods = []\n",
    "    \n",
    "    def add(self, item):\n",
    "        self.goods.append(item)\n",
    "    \n",
    "    def count_category(self, category):\n",
    "        return len([item for item in self.goods if item.category == category]) if self.goods else 0\n",
    "    \n",
    "    def find_items(self, price_bounds=[None, None], categories=None):\n",
    "        min_price, max_price = price_bounds\n",
    "        min_price = min_price if min_price else -math.inf\n",
    "        max_price = max_price if max_price else math.inf\n",
    "        categories = categories if categories else [item.category for item in self.goods]\n",
    "        return [item \n",
    "                for item in self.goods \n",
    "                if item.category in categories \n",
    "                and item.price >= min_price \n",
    "                and item.price <= max_price]\n",
    "    \n",
    "    def get_full_price(self, categories=None):\n",
    "        categories = categories if categories else [item.category for item in self.goods]\n",
    "        total_price = {'total_price_by_category':dict.fromkeys(categories), \n",
    "                       'total_price':0}\n",
    "        for cat in total_price['total_price_by_category']:\n",
    "            total_price['total_price_by_category'][cat] = sum(item.price for item in self.goods \n",
    "                                                              if item.category == cat)\n",
    "            total_price['total_price'] += total_price['total_price_by_category'][cat]\n",
    "        return total_price\n",
    "    \n",
    "    def is_available(self, item):\n",
    "        return (item in self.goods)\n",
    "    \n",
    "    def __str__(self):\n",
    "        return 'Shop: \\n' + '\\n'.join([str(i) for i in self.goods])\n",
    "    \n",
    "    __repr__ = __str__"
   ]
  },
  {
   "cell_type": "code",
   "execution_count": 18,
   "id": "783bfe77",
   "metadata": {},
   "outputs": [],
   "source": [
    "list_items = [Item(name='a', price=1, category='2'), \n",
    "              Item(name='b', price=2, category='2'),\n",
    "              Item(name='c', price=3, category='2'),\n",
    "              Item(name='d', price=4, category='1'),\n",
    "              Item(name='e', price=5, category='1')]"
   ]
  },
  {
   "cell_type": "code",
   "execution_count": 19,
   "id": "39837621",
   "metadata": {},
   "outputs": [],
   "source": [
    "shop = Shop()\n",
    "for good in list_items:\n",
    "    shop.add(good)"
   ]
  },
  {
   "cell_type": "code",
   "execution_count": 20,
   "id": "3332d558",
   "metadata": {},
   "outputs": [
    {
     "name": "stdout",
     "output_type": "stream",
     "text": [
      "Shop: \n",
      "a: категория 2, стоимость 1 единиц\n",
      "b: категория 2, стоимость 2 единиц\n",
      "c: категория 2, стоимость 3 единиц\n",
      "d: категория 1, стоимость 4 единиц\n",
      "e: категория 1, стоимость 5 единиц\n"
     ]
    }
   ],
   "source": [
    "print(shop)"
   ]
  },
  {
   "cell_type": "code",
   "execution_count": 21,
   "id": "84efda05",
   "metadata": {},
   "outputs": [
    {
     "data": {
      "text/plain": [
       "3"
      ]
     },
     "execution_count": 21,
     "metadata": {},
     "output_type": "execute_result"
    }
   ],
   "source": [
    "shop.count_category('2')"
   ]
  },
  {
   "cell_type": "code",
   "execution_count": 22,
   "id": "2dc9aa7f",
   "metadata": {},
   "outputs": [
    {
     "data": {
      "text/plain": [
       "[a: категория 2, стоимость 1 единиц,\n",
       " b: категория 2, стоимость 2 единиц,\n",
       " c: категория 2, стоимость 3 единиц]"
      ]
     },
     "execution_count": 22,
     "metadata": {},
     "output_type": "execute_result"
    }
   ],
   "source": [
    "shop.find_items(categories=['2'], price_bounds=[None, 4])"
   ]
  },
  {
   "cell_type": "code",
   "execution_count": 23,
   "id": "1f94cd97",
   "metadata": {},
   "outputs": [
    {
     "data": {
      "text/plain": [
       "{'total_price_by_category': {'2': 6, '1': 9}, 'total_price': 15}"
      ]
     },
     "execution_count": 23,
     "metadata": {},
     "output_type": "execute_result"
    }
   ],
   "source": [
    "shop.get_full_price()"
   ]
  },
  {
   "cell_type": "code",
   "execution_count": 24,
   "id": "4dd1879c",
   "metadata": {},
   "outputs": [
    {
     "data": {
      "text/plain": [
       "{'total_price_by_category': {'1': 9}, 'total_price': 9}"
      ]
     },
     "execution_count": 24,
     "metadata": {},
     "output_type": "execute_result"
    }
   ],
   "source": [
    "shop.get_full_price(categories=['1'])"
   ]
  },
  {
   "cell_type": "code",
   "execution_count": 25,
   "id": "fd7ec70a",
   "metadata": {},
   "outputs": [
    {
     "data": {
      "text/plain": [
       "False"
      ]
     },
     "execution_count": 25,
     "metadata": {},
     "output_type": "execute_result"
    }
   ],
   "source": [
    "shop.is_available(Item(name='n', price=1, category='2'))"
   ]
  },
  {
   "cell_type": "code",
   "execution_count": 26,
   "id": "1b0d3bd9",
   "metadata": {},
   "outputs": [
    {
     "data": {
      "text/plain": [
       "True"
      ]
     },
     "execution_count": 26,
     "metadata": {},
     "output_type": "execute_result"
    }
   ],
   "source": [
    "shop.is_available(Item(name='a', price=1, category='2'))"
   ]
  },
  {
   "cell_type": "markdown",
   "id": "6f5e9508",
   "metadata": {},
   "source": [
    "#### Роботы\n",
    "Написать класс робота **Robot**, который может драться с другим роботом. За это будет\n",
    "отвечать метод robot1.fightWith(robot2).\n",
    "\n",
    "Обязательные атрибуты:\n",
    "- name - имя робота\n",
    "- power - максимальная сила удара робота\n",
    "- health - текущий уровень здоровья\n",
    "\n",
    "Обязательные методы:\n",
    "- _ _ init _ _ (self, name=None, power=10) - в этом методе происходит инициализация обязательных атрибутов. Если name не передано, то имя робота должно генерироваться ​автоматически ​по правилу: “Robot id”, где id - уникальный идентификатор робота (например, порядковый номер объекта класса). Пользоваться global нельзя. По-умолчанию на старте у каждого робота 100 единиц здоровья.\n",
    "- hit(self, robot) - в этом методе происходит удар по роботу robot. Наносимый урон - случайное целое число от 1 до power того робота, который бьет. Возвращает урон, который нанес робот.\n",
    "- fightWith(self, robot) - драка двух роботов. Первый бьет тот, кто начал драку :) Возвращает True, если выиграл первый, и False в противном случае. При этом у проигравшего должно оставаться 0 здоровья. Для битвы нужно написать код так, чтобы они по очереди наносили случайный урон друг другу (каждый удар выводится в виде текста вместе с информацией о здоровье).\n",
    "\n",
    "Пример:\n",
    "\n",
    "Робот Robot 1 ударил робота Robot 2 и нанес 4 урона здоровью Здоровье робота Robot 1: 100, здоровье робота\n",
    "Robot 2: 96\n",
    "\n",
    "Робот Robot 2 ударил робота Robot 1 и нанес 68 урона здоровью Здоровье робота Robot 2: 96, здоровье робота\n",
    "Robot 1: 32\n",
    "\n",
    "Робот Robot 1 ударил робота Robot 2 и нанес 2 урона здоровью Здоровье робота Robot 1: 32, здоровье робота\n",
    "Robot 2: 94\n",
    "\n",
    "Робот Robot 2 ударил робота Robot 1 и нанес 52 урона здоровью Здоровье робота Robot 2: 94, здоровье робота\n",
    "Robot 1: 0\n",
    "\n",
    "Робот Robot 2 побеждает!\n",
    "\n",
    "Вывод информации о каждом ударе должен быть реализован с помощью **декоратора**. Вывод информации о победителе можно реализовывать без помощи декоратора."
   ]
  },
  {
   "cell_type": "code",
   "execution_count": 27,
   "id": "327ac42f",
   "metadata": {},
   "outputs": [],
   "source": [
    "import random\n",
    "from time import sleep"
   ]
  },
  {
   "cell_type": "code",
   "execution_count": 28,
   "id": "dd28db27",
   "metadata": {},
   "outputs": [],
   "source": [
    "def fight(f):\n",
    "    def wrap(self, robot):\n",
    "        ret = f(self, robot)\n",
    "        \n",
    "        \n",
    "        print(f'Робот {self.name} ударил робота {robot.name} и нанес {ret} урона здоровью', end=' ')\n",
    "        print(f'Здоровье робота {self.name}: {self.health}, здоровье робота {robot.name}: {robot.health}')\n",
    "        return ret\n",
    "    return wrap"
   ]
  },
  {
   "cell_type": "code",
   "execution_count": 29,
   "id": "b5875415",
   "metadata": {},
   "outputs": [],
   "source": [
    "class Robot:\n",
    "    def __init__(self, name=None, power=10):\n",
    "        self.name = name if name else f'Robot {id(self)}'\n",
    "        self.power = power\n",
    "        self.health = 100\n",
    "    \n",
    "    @fight\n",
    "    def hit(self, robot):\n",
    "        cur_hit_power = random.randint(1, self.power)\n",
    "        robot.health -= cur_hit_power\n",
    "        robot.health = max(0, robot.health)\n",
    "        return cur_hit_power\n",
    "    \n",
    "    def fightWith(self, robot):\n",
    "        while True:\n",
    "            self.hit(robot)\n",
    "            if robot.health == 0:\n",
    "                print(f'Робот {self.name} побеждает!')\n",
    "                return True\n",
    "            robot.hit(self)\n",
    "            if self.health == 0:\n",
    "                print(f'Робот {robot.name} побеждает!')\n",
    "                return False"
   ]
  },
  {
   "cell_type": "code",
   "execution_count": 30,
   "id": "280d714e",
   "metadata": {
    "scrolled": true
   },
   "outputs": [
    {
     "name": "stdout",
     "output_type": "stream",
     "text": [
      "Робот Robot 139839911700032 ударил робота Robot 139839911702048 и нанес 10 урона здоровью Здоровье робота Robot 139839911700032: 100, здоровье робота Robot 139839911702048: 90\n",
      "Робот Robot 139839911702048 ударил робота Robot 139839911700032 и нанес 6 урона здоровью Здоровье робота Robot 139839911702048: 90, здоровье робота Robot 139839911700032: 94\n",
      "Робот Robot 139839911700032 ударил робота Robot 139839911702048 и нанес 8 урона здоровью Здоровье робота Robot 139839911700032: 94, здоровье робота Robot 139839911702048: 82\n",
      "Робот Robot 139839911702048 ударил робота Robot 139839911700032 и нанес 1 урона здоровью Здоровье робота Robot 139839911702048: 82, здоровье робота Robot 139839911700032: 93\n",
      "Робот Robot 139839911700032 ударил робота Robot 139839911702048 и нанес 1 урона здоровью Здоровье робота Robot 139839911700032: 93, здоровье робота Robot 139839911702048: 81\n",
      "Робот Robot 139839911702048 ударил робота Robot 139839911700032 и нанес 2 урона здоровью Здоровье робота Robot 139839911702048: 81, здоровье робота Robot 139839911700032: 91\n",
      "Робот Robot 139839911700032 ударил робота Robot 139839911702048 и нанес 7 урона здоровью Здоровье робота Robot 139839911700032: 91, здоровье робота Robot 139839911702048: 74\n",
      "Робот Robot 139839911702048 ударил робота Robot 139839911700032 и нанес 3 урона здоровью Здоровье робота Robot 139839911702048: 74, здоровье робота Robot 139839911700032: 88\n",
      "Робот Robot 139839911700032 ударил робота Robot 139839911702048 и нанес 4 урона здоровью Здоровье робота Robot 139839911700032: 88, здоровье робота Robot 139839911702048: 70\n",
      "Робот Robot 139839911702048 ударил робота Robot 139839911700032 и нанес 7 урона здоровью Здоровье робота Robot 139839911702048: 70, здоровье робота Robot 139839911700032: 81\n",
      "Робот Robot 139839911700032 ударил робота Robot 139839911702048 и нанес 9 урона здоровью Здоровье робота Robot 139839911700032: 81, здоровье робота Robot 139839911702048: 61\n",
      "Робот Robot 139839911702048 ударил робота Robot 139839911700032 и нанес 7 урона здоровью Здоровье робота Robot 139839911702048: 61, здоровье робота Robot 139839911700032: 74\n",
      "Робот Robot 139839911700032 ударил робота Robot 139839911702048 и нанес 2 урона здоровью Здоровье робота Robot 139839911700032: 74, здоровье робота Robot 139839911702048: 59\n",
      "Робот Robot 139839911702048 ударил робота Robot 139839911700032 и нанес 7 урона здоровью Здоровье робота Robot 139839911702048: 59, здоровье робота Robot 139839911700032: 67\n",
      "Робот Robot 139839911700032 ударил робота Robot 139839911702048 и нанес 5 урона здоровью Здоровье робота Robot 139839911700032: 67, здоровье робота Robot 139839911702048: 54\n",
      "Робот Robot 139839911702048 ударил робота Robot 139839911700032 и нанес 2 урона здоровью Здоровье робота Robot 139839911702048: 54, здоровье робота Robot 139839911700032: 65\n",
      "Робот Robot 139839911700032 ударил робота Robot 139839911702048 и нанес 7 урона здоровью Здоровье робота Robot 139839911700032: 65, здоровье робота Robot 139839911702048: 47\n",
      "Робот Robot 139839911702048 ударил робота Robot 139839911700032 и нанес 6 урона здоровью Здоровье робота Robot 139839911702048: 47, здоровье робота Robot 139839911700032: 59\n",
      "Робот Robot 139839911700032 ударил робота Robot 139839911702048 и нанес 6 урона здоровью Здоровье робота Robot 139839911700032: 59, здоровье робота Robot 139839911702048: 41\n",
      "Робот Robot 139839911702048 ударил робота Robot 139839911700032 и нанес 5 урона здоровью Здоровье робота Robot 139839911702048: 41, здоровье робота Robot 139839911700032: 54\n",
      "Робот Robot 139839911700032 ударил робота Robot 139839911702048 и нанес 8 урона здоровью Здоровье робота Robot 139839911700032: 54, здоровье робота Robot 139839911702048: 33\n",
      "Робот Robot 139839911702048 ударил робота Robot 139839911700032 и нанес 5 урона здоровью Здоровье робота Robot 139839911702048: 33, здоровье робота Robot 139839911700032: 49\n",
      "Робот Robot 139839911700032 ударил робота Robot 139839911702048 и нанес 1 урона здоровью Здоровье робота Robot 139839911700032: 49, здоровье робота Robot 139839911702048: 32\n",
      "Робот Robot 139839911702048 ударил робота Robot 139839911700032 и нанес 2 урона здоровью Здоровье робота Robot 139839911702048: 32, здоровье робота Robot 139839911700032: 47\n",
      "Робот Robot 139839911700032 ударил робота Robot 139839911702048 и нанес 3 урона здоровью Здоровье робота Robot 139839911700032: 47, здоровье робота Robot 139839911702048: 29\n",
      "Робот Robot 139839911702048 ударил робота Robot 139839911700032 и нанес 9 урона здоровью Здоровье робота Robot 139839911702048: 29, здоровье робота Robot 139839911700032: 38\n",
      "Робот Robot 139839911700032 ударил робота Robot 139839911702048 и нанес 9 урона здоровью Здоровье робота Robot 139839911700032: 38, здоровье робота Robot 139839911702048: 20\n",
      "Робот Robot 139839911702048 ударил робота Robot 139839911700032 и нанес 6 урона здоровью Здоровье робота Robot 139839911702048: 20, здоровье робота Robot 139839911700032: 32\n",
      "Робот Robot 139839911700032 ударил робота Robot 139839911702048 и нанес 3 урона здоровью Здоровье робота Robot 139839911700032: 32, здоровье робота Robot 139839911702048: 17\n",
      "Робот Robot 139839911702048 ударил робота Robot 139839911700032 и нанес 9 урона здоровью Здоровье робота Robot 139839911702048: 17, здоровье робота Robot 139839911700032: 23\n",
      "Робот Robot 139839911700032 ударил робота Robot 139839911702048 и нанес 7 урона здоровью Здоровье робота Robot 139839911700032: 23, здоровье робота Robot 139839911702048: 10\n",
      "Робот Robot 139839911702048 ударил робота Robot 139839911700032 и нанес 8 урона здоровью Здоровье робота Robot 139839911702048: 10, здоровье робота Robot 139839911700032: 15\n",
      "Робот Robot 139839911700032 ударил робота Robot 139839911702048 и нанес 3 урона здоровью Здоровье робота Robot 139839911700032: 15, здоровье робота Robot 139839911702048: 7\n",
      "Робот Robot 139839911702048 ударил робота Robot 139839911700032 и нанес 3 урона здоровью Здоровье робота Robot 139839911702048: 7, здоровье робота Robot 139839911700032: 12\n",
      "Робот Robot 139839911700032 ударил робота Robot 139839911702048 и нанес 2 урона здоровью Здоровье робота Robot 139839911700032: 12, здоровье робота Robot 139839911702048: 5\n",
      "Робот Robot 139839911702048 ударил робота Robot 139839911700032 и нанес 6 урона здоровью Здоровье робота Robot 139839911702048: 5, здоровье робота Robot 139839911700032: 6\n",
      "Робот Robot 139839911700032 ударил робота Robot 139839911702048 и нанес 3 урона здоровью Здоровье робота Robot 139839911700032: 6, здоровье робота Robot 139839911702048: 2\n",
      "Робот Robot 139839911702048 ударил робота Robot 139839911700032 и нанес 10 урона здоровью Здоровье робота Robot 139839911702048: 2, здоровье робота Robot 139839911700032: 0\n",
      "Робот Robot 139839911702048 побеждает!\n"
     ]
    },
    {
     "data": {
      "text/plain": [
       "False"
      ]
     },
     "execution_count": 30,
     "metadata": {},
     "output_type": "execute_result"
    }
   ],
   "source": [
    "Robot().fightWith(Robot())"
   ]
  },
  {
   "cell_type": "markdown",
   "id": "86d89926",
   "metadata": {},
   "source": [
    "#### Поиск пути в лабиринте\n",
    "Написать программу поиска в ШИРИНУ кратчайшего пути в лабиринте 10 на 10 клеток\n",
    "между заданными точками старта и финиша. Ходить можно по горизонтали или\n",
    "вертикали. Алгоритм поиска нужно написать самому. Нельзя пользоваться numpy. Нельзя\n",
    "пользоваться другими готовыми решениями.\n",
    "\n",
    "Предполагается что вы представите поле в виде графа, каждая его клетка - узел (объект\n",
    "класса **Node**). В узле хранятся ссылки на соседние клетки, тип узла (поле, стена, старт,\n",
    "финиш), минимальное расстояние от старта и знание о том, какой узел является\n",
    "предыдущем в кратчайшем пути. Последние два поля заполняются при нахождении\n",
    "кратчайшего пути.\n",
    "\n",
    "Само поле задается с помощью класса **Board**. У класса должны быть методы:\n",
    "- read - считать поле, задается строкой в формате указанном ниже (горизонтали разделены с помощью \\n)\n",
    "- solve - найти кратчайший путь и сохранить его (сам путь и его длину)\n",
    "- print - вывести считанный лабиринт с кратчайшим путем (можно сделать опцию просто вывести лабиринт до вызова метода solve)\n",
    "- Для отладки вам может быть полезно сделать метод generate, который создает случайное поле.\n",
    "\n",
    "В объекте класса Board можно хранить только два объекта класса Node - левый верхний угол и точка старта (S).\n",
    "\n",
    "- Вход:\n",
    "- рисунок лабиринта\n",
    "OXOXOOOOOO\n",
    "\n",
    "OOOOOXOOOO\n",
    "\n",
    "OOOOOOOOOO\n",
    "\n",
    "OOOOOFOOOO\n",
    "\n",
    "OOOOOOOOOO\n",
    "\n",
    "OOOOOOOOOO\n",
    "\n",
    "XXOXXOOOOO\n",
    "\n",
    "OOOOXOOOOO\n",
    "\n",
    "XXXOXOOOOO\n",
    "\n",
    "SOOOXOOOOO\n",
    "\n",
    "- Обозначения: \n",
    "O = пустое поле, X - стена, S - старт, F - финиш\n",
    "\n",
    "- Выход:\n",
    "Длина кратчайшего пути между стартом и финишем (Включая конечные точки). Если путь существует, то вывести так же лабиринт, в котором цветом выделить кратчайший путь.\n",
    "\n",
    "14\n",
    "\n",
    "OXOXOOOOOO\n",
    "\n",
    "OOOOOXOOOO\n",
    "\n",
    "OOOOOOOOOO\n",
    "\n",
    "OO**OOOF**OOOO\n",
    "\n",
    "OO**O**OOOOOOO\n",
    "\n",
    "OO**O**OOOOOOO\n",
    "\n",
    "XX**O**XXOOOOO\n",
    "\n",
    "OO**OO**XOOOOO\n",
    "\n",
    "XXX**O**XOOOOO\n",
    "\n",
    "**SOOO**XOOOOO\n",
    "\n",
    "- Для того, чтобы написать текст в консоли каким-то цветом, можно использовать ansi-код этого цвета:\n",
    "RED = '\\033[31m'\n",
    "\n",
    "END = '\\033[0m'\n",
    "\n",
    "print(RED + ‘red text’ + END)"
   ]
  },
  {
   "cell_type": "code",
   "execution_count": 31,
   "id": "193e44f8",
   "metadata": {},
   "outputs": [],
   "source": [
    "class Node:\n",
    "    def __init__(self):\n",
    "        self.node_type = None\n",
    "        self.left = None\n",
    "        self.right = None\n",
    "        self.up = None\n",
    "        self.down = None\n",
    "        self.min_dist_from_start = None # заполняeтся при нахождении кратчайшего пути\n",
    "        self.previous_node = None # заполняeтся при нахождении кратчайшего пути"
   ]
  },
  {
   "cell_type": "markdown",
   "id": "a3d33494",
   "metadata": {},
   "source": [
    "- read - считать поле, задается строкой в формате указанном ниже (горизонтали разделены с помощью \\n)\n",
    "- solve - найти кратчайший путь и сохранить его (сам путь и его длину)\n",
    "- print - вывести считанный лабиринт с кратчайшим путем (можно сделать опцию просто вывести лабиринт до вызова метода solve)\n",
    "- Для отладки вам может быть полезно сделprint_initial_mapать метод generate, который создает случайное поле.\n",
    "\n",
    "В объекте класса Board можно хранить только два объекта класса Node - левый верхний угол и точка старта (S)."
   ]
  },
  {
   "cell_type": "code",
   "execution_count": 46,
   "id": "459b5579",
   "metadata": {},
   "outputs": [],
   "source": [
    "from collections import deque\n",
    "\n",
    "\n",
    "class Board:\n",
    "    def read(self, string):\n",
    "        map_ = [list(line) for line in string.split()]\n",
    "        node_map = [[Node() for _ in range(len(map_[0]))] for _ in range(len(map_))]\n",
    "        self.path = []\n",
    "        for i, line in enumerate(map_):\n",
    "            for j, c in enumerate(line):\n",
    "                node = node_map[i][j]\n",
    "                node.node_type = c\n",
    "                if i > 0:\n",
    "                    node.up = node_map[i - 1][j]\n",
    "                if i < len(map_) - 1:\n",
    "                    node.down = node_map[i + 1][j]\n",
    "                if j > 0:\n",
    "                    node.left = node_map[i][j - 1]\n",
    "                if j < len(map_[0]) - 1:\n",
    "                    node.right = node_map[i][j + 1]\n",
    "                if c == 'S':\n",
    "                    self.start = node\n",
    "                if i == j == 0:\n",
    "                    self.upper_left = node\n",
    "    \n",
    "    def solve(self):\n",
    "        q = deque()\n",
    "        self.start.min_dist_from_start = 0\n",
    "        q.append(self.start)\n",
    "        while len(q) > 0:\n",
    "            node = q.popleft()\n",
    "            if node.node_type == 'F':\n",
    "                while node.previous_node is not None:\n",
    "                    self.path.append(node)\n",
    "                    node = node.previous_node\n",
    "                self.path.append(self.start)\n",
    "                break\n",
    "            for item in (node.left, node.right, node.up, node.down):\n",
    "                if item is not None and item.node_type != 'X' and item.min_dist_from_start is None:\n",
    "                    item.min_dist_from_start = node.min_dist_from_start + 1\n",
    "                    item.previous_node = node\n",
    "                    q.append(item)\n",
    "                \n",
    "            \n",
    "    def print(self, print_solution=True):\n",
    "        RED = '\\033[31m'\n",
    "        END = '\\033[0m'\n",
    "        first = self.upper_left\n",
    "        while first is not None:\n",
    "            cur = first\n",
    "            while cur is not None:\n",
    "                if print_solution and cur in self.path:\n",
    "                    print(RED + cur.node_type + END, end='')\n",
    "                else:\n",
    "                    print(cur.node_type, end='')\n",
    "                cur = cur.right\n",
    "            print()\n",
    "            first = first.down\n",
    "            \n",
    "    \n",
    "    def generate(self):\n",
    "        lst_map = [random.choices('XO', weights=[0.15, 0.85], k=10) for _ in range(10)]\n",
    "        \n",
    "        f_ind = random.randint(0, 99)\n",
    "        s_ind = random.randint(0, 99)\n",
    "        while s_ind == f_ind:\n",
    "            s_ind = random.randint(0, 99)\n",
    "        \n",
    "        lst_map[f_ind // 10][f_ind % 10] = 'F'\n",
    "        lst_map[s_ind // 10][s_ind % 10] = 'S'\n",
    "        \n",
    "        return '\\n'.join(''.join(line) for line in lst_map)"
   ]
  },
  {
   "cell_type": "code",
   "execution_count": 47,
   "id": "4ba8187d",
   "metadata": {},
   "outputs": [],
   "source": [
    "b = Board()"
   ]
  },
  {
   "cell_type": "code",
   "execution_count": 48,
   "id": "f3db20da",
   "metadata": {},
   "outputs": [],
   "source": [
    "m = b.generate()"
   ]
  },
  {
   "cell_type": "code",
   "execution_count": 49,
   "id": "fb553bdd",
   "metadata": {},
   "outputs": [],
   "source": [
    "b.read(m)"
   ]
  },
  {
   "cell_type": "code",
   "execution_count": 50,
   "id": "b351edf0",
   "metadata": {},
   "outputs": [
    {
     "name": "stdout",
     "output_type": "stream",
     "text": [
      "OOOOOOOOOO\n",
      "XOXOOXOOXO\n",
      "OXOOOOOOOO\n",
      "OOXOOOOXOX\n",
      "OOXOOXOOOO\n",
      "OOOOOOOOOO\n",
      "XXOOXOXXOO\n",
      "OOXOOOFOOO\n",
      "OOSOXOOOXO\n",
      "OOOOOOOOOO\n"
     ]
    }
   ],
   "source": [
    "b.print(print_solution=False)"
   ]
  },
  {
   "cell_type": "code",
   "execution_count": 51,
   "id": "5fcfd8ea",
   "metadata": {},
   "outputs": [],
   "source": [
    "b.solve()"
   ]
  },
  {
   "cell_type": "code",
   "execution_count": 52,
   "id": "a6fa9154",
   "metadata": {},
   "outputs": [
    {
     "name": "stdout",
     "output_type": "stream",
     "text": [
      "OOOOOOOOOO\n",
      "XOXOOXOOXO\n",
      "OXOOOOOOOO\n",
      "OOXOOOOXOX\n",
      "OOXOOXOOOO\n",
      "OOOOOOOOOO\n",
      "XXOOXOXXOO\n",
      "OOX\u001b[31mO\u001b[0m\u001b[31mO\u001b[0m\u001b[31mO\u001b[0m\u001b[31mF\u001b[0mOOO\n",
      "OO\u001b[31mS\u001b[0m\u001b[31mO\u001b[0mXOOOXO\n",
      "OOOOOOOOOO\n"
     ]
    }
   ],
   "source": [
    "b.print()"
   ]
  },
  {
   "cell_type": "code",
   "execution_count": null,
   "id": "87b3b8c2",
   "metadata": {},
   "outputs": [],
   "source": []
  }
 ],
 "metadata": {
  "hide_input": false,
  "kernelspec": {
   "display_name": "Python 3 (ipykernel)",
   "language": "python",
   "name": "python3"
  },
  "language_info": {
   "codemirror_mode": {
    "name": "ipython",
    "version": 3
   },
   "file_extension": ".py",
   "mimetype": "text/x-python",
   "name": "python",
   "nbconvert_exporter": "python",
   "pygments_lexer": "ipython3",
   "version": "3.9.12"
  },
  "toc": {
   "base_numbering": 1,
   "nav_menu": {},
   "number_sections": true,
   "sideBar": true,
   "skip_h1_title": false,
   "title_cell": "Table of Contents",
   "title_sidebar": "Contents",
   "toc_cell": false,
   "toc_position": {},
   "toc_section_display": true,
   "toc_window_display": false
  },
  "varInspector": {
   "cols": {
    "lenName": 16,
    "lenType": 16,
    "lenVar": 40
   },
   "kernels_config": {
    "python": {
     "delete_cmd_postfix": "",
     "delete_cmd_prefix": "del ",
     "library": "var_list.py",
     "varRefreshCmd": "print(var_dic_list())"
    },
    "r": {
     "delete_cmd_postfix": ") ",
     "delete_cmd_prefix": "rm(",
     "library": "var_list.r",
     "varRefreshCmd": "cat(var_dic_list()) "
    }
   },
   "types_to_exclude": [
    "module",
    "function",
    "builtin_function_or_method",
    "instance",
    "_Feature"
   ],
   "window_display": false
  }
 },
 "nbformat": 4,
 "nbformat_minor": 5
}
