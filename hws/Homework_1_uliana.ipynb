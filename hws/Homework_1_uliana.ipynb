{
 "cells": [
  {
   "cell_type": "markdown",
   "metadata": {},
   "source": [
    "# Info\n",
    "Для каждой из перечисленных ниже задач необходимо написать функцию (функции в случае первой задачи), которые решают поставленную проблему. Ниже функции необходимо написать тесты, которые показывали бы, что ваша функция работает. Проверять вырожденные случаи вроде пустых и неправильных входов не нужно, для всего остального функции должны работать корректно. Мы специально не делаем контест (по крайней мере на первой домашке), чтобы глазами посмотреть на качество и стиль вашего кода (https://www.python.org/dev/peps/pep-0008/)."
   ]
  },
  {
   "cell_type": "markdown",
   "metadata": {},
   "source": [
    "# Задача 1\n",
    "\n",
    "Напишите функции простейшей алгебры с матрицами (список из $m$ списков длины $n$): сложение матриц, умножение на число, перемножение двух матриц, транспонирование. Нельзя пользоваться numpy и аналогами."
   ]
  },
  {
   "cell_type": "code",
   "execution_count": 1,
   "metadata": {},
   "outputs": [],
   "source": [
    "from typing import List, Tuple\n",
    "\n",
    "Matrix = List[List[int]]"
   ]
  },
  {
   "cell_type": "markdown",
   "metadata": {},
   "source": [
    "Данные"
   ]
  },
  {
   "cell_type": "code",
   "execution_count": 2,
   "metadata": {},
   "outputs": [],
   "source": [
    "M1 = [[0, 1, 0, 1], [1, 1, 1, 1], [1, 0, 1, 1]]\n",
    "M2 = [[1, 2, 3, 4], [5, 4, 3, 2], [3, 4, 5, 6]]\n",
    "\n",
    "M3 = [[1], [2], [3], [4], [5]]\n",
    "M4 = [[0], [0], [0], [0], [0]]\n",
    "\n",
    "M5 = [[1, 2, 3, 4, 5]]\n",
    "M6 = [[1, 2, 3, 4, 5]]\n",
    "\n",
    "M7 = [[1, 2, 3, 1], [1, 2, 3, 1], [1, 2, 3, 1], [1, 2, 3, 1]]\n",
    "M8 = [[1, 1, 1, 1], [0, 0, 0, 0], [1, 2, 3, 1], [1, 2, 3, 1]]\n",
    "\n",
    "i1 = 3 \n",
    "i2 = 5\n",
    "\n",
    "L = [1, 3, 5, 9, 41, 2, 3, 4, 8, 12]"
   ]
  },
  {
   "cell_type": "markdown",
   "metadata": {},
   "source": [
    "Сложение матриц"
   ]
  },
  {
   "cell_type": "code",
   "execution_count": 3,
   "metadata": {},
   "outputs": [],
   "source": [
    "def matrix_addition(M1: Matrix, M2: Matrix) -> Matrix:\n",
    "    \"\"\"\n",
    "    Returns the result of M1 and M2 matrices addiction.\n",
    "    \"\"\"\n",
    "    ret_M = []\n",
    "    m = len(M1)\n",
    "    n = len(M1[0])\n",
    "    for i in range(m):\n",
    "        ret_M.append([])\n",
    "        for j in range(n):\n",
    "            ret_M[i].append(M1[i][j] + M2[i][j])\n",
    "    return ret_M"
   ]
  },
  {
   "cell_type": "code",
   "execution_count": 4,
   "metadata": {},
   "outputs": [],
   "source": [
    "assert matrix_addition(M1, M2) == [[1, 3, 3, 5], [6, 5, 4, 3], [4, 4, 6, 7]]"
   ]
  },
  {
   "cell_type": "code",
   "execution_count": 5,
   "metadata": {},
   "outputs": [],
   "source": [
    "assert matrix_addition(M3, M4) == [[1], [2], [3], [4], [5]]"
   ]
  },
  {
   "cell_type": "code",
   "execution_count": 6,
   "metadata": {},
   "outputs": [],
   "source": [
    "assert matrix_addition(M5, M6) == [[2, 4, 6, 8, 10]]"
   ]
  },
  {
   "cell_type": "code",
   "execution_count": 7,
   "metadata": {},
   "outputs": [],
   "source": [
    "assert matrix_addition(M7, M8) == [[2, 3, 4, 2], [1, 2, 3, 1], [2, 4, 6, 2], [2, 4, 6, 2]]"
   ]
  },
  {
   "cell_type": "markdown",
   "metadata": {},
   "source": [
    "Умножение матрицы на число"
   ]
  },
  {
   "cell_type": "code",
   "execution_count": 8,
   "metadata": {},
   "outputs": [],
   "source": [
    "def matrix_cross_int(M1: Matrix, scalar: int)-> Matrix:\n",
    "    \"\"\"\n",
    "    Returns the result of an M1 matrix and an integer production.\n",
    "    \"\"\"\n",
    "    ret_M = []\n",
    "    m = len(M1)\n",
    "    n = len(M1[0])\n",
    "    for i in range(m):\n",
    "        ret_M.append([])\n",
    "        for j in range(n):\n",
    "            ret_M[i].append(M1[i][j] * scalar)\n",
    "    return ret_M"
   ]
  },
  {
   "cell_type": "code",
   "execution_count": 9,
   "metadata": {},
   "outputs": [],
   "source": [
    "assert matrix_cross_int(M1, i1) == [[0, 3, 0, 3], [3, 3, 3, 3], [3, 0, 3, 3]]"
   ]
  },
  {
   "cell_type": "code",
   "execution_count": 10,
   "metadata": {},
   "outputs": [],
   "source": [
    "assert matrix_cross_int(M1, i2) == [[0, 5, 0, 5], [5, 5, 5, 5], [5, 0, 5, 5]]"
   ]
  },
  {
   "cell_type": "code",
   "execution_count": 11,
   "metadata": {},
   "outputs": [],
   "source": [
    "assert matrix_cross_int(M3, i1) == [[3], [6], [9], [12], [15]]"
   ]
  },
  {
   "cell_type": "code",
   "execution_count": 12,
   "metadata": {},
   "outputs": [],
   "source": [
    "assert matrix_cross_int(M8, i2) == [[5, 5, 5, 5], [0, 0, 0, 0], [5, 10, 15, 5], [5, 10, 15, 5]]"
   ]
  },
  {
   "cell_type": "markdown",
   "metadata": {},
   "source": [
    "Перемножение двух матриц"
   ]
  },
  {
   "cell_type": "code",
   "execution_count": 13,
   "metadata": {},
   "outputs": [],
   "source": [
    "def matrix_production(M1: Matrix, M2: Matrix) -> Matrix:\n",
    "    \"\"\"\n",
    "    Returns the result of M1 and M2 matrices production.\n",
    "    \"\"\"\n",
    "    ret_M = []\n",
    "    m = len(M1)\n",
    "    n = len(M1[0])\n",
    "    p = len(M2[0])\n",
    "    for i in range(m):\n",
    "        ret_M.append([])\n",
    "        for k in range(p):\n",
    "            sum_prod = 0\n",
    "            for j in range(n):\n",
    "                sum_prod += M1[i][j] * M2[j][k]\n",
    "            ret_M[i].append(sum_prod)\n",
    "    return ret_M"
   ]
  },
  {
   "cell_type": "code",
   "execution_count": 14,
   "metadata": {},
   "outputs": [],
   "source": [
    "assert matrix_production(M1, M7) == [[2, 4, 6, 2], [4, 8, 12, 4], [3, 6, 9, 3]]"
   ]
  },
  {
   "cell_type": "code",
   "execution_count": 15,
   "metadata": {},
   "outputs": [],
   "source": [
    "assert matrix_production(M8, M8) == [[3, 5, 7, 3], [0, 0, 0, 0], [5, 9, 13, 5], [5, 9, 13, 5]]"
   ]
  },
  {
   "cell_type": "code",
   "execution_count": 16,
   "metadata": {},
   "outputs": [],
   "source": [
    "assert matrix_production(M3, M5) == [[1, 2, 3, 4, 5],\n",
    "                                     [2, 4, 6, 8, 10],\n",
    "                                     [3, 6, 9, 12, 15],\n",
    "                                     [4, 8, 12, 16, 20],\n",
    "                                     [5, 10, 15, 20, 25]]"
   ]
  },
  {
   "cell_type": "code",
   "execution_count": 17,
   "metadata": {},
   "outputs": [],
   "source": [
    "assert matrix_production(M6, M4) == [[0]]"
   ]
  },
  {
   "cell_type": "markdown",
   "metadata": {},
   "source": [
    "Транспонирование матрицы"
   ]
  },
  {
   "cell_type": "code",
   "execution_count": 18,
   "metadata": {},
   "outputs": [],
   "source": [
    "def matrix_transpose(M1: Matrix) -> Matrix:\n",
    "    \"\"\"\n",
    "    Returns the transposed M1 matrix.\n",
    "    \"\"\"\n",
    "    ret_M = []\n",
    "    m = len(M1)\n",
    "    n = len(M1[0])\n",
    "    for j in range(n):\n",
    "        ret_M.append([])\n",
    "        for i in range(m):\n",
    "            ret_M[j].append(M1[i][j])\n",
    "    return ret_M"
   ]
  },
  {
   "cell_type": "code",
   "execution_count": 19,
   "metadata": {},
   "outputs": [],
   "source": [
    "assert matrix_transpose(M1) == [[0, 1, 1], [1, 1, 0], [0, 1, 1], [1, 1, 1]]"
   ]
  },
  {
   "cell_type": "code",
   "execution_count": 20,
   "metadata": {},
   "outputs": [],
   "source": [
    "assert matrix_transpose(M3) == [[1, 2, 3, 4, 5]]"
   ]
  },
  {
   "cell_type": "code",
   "execution_count": 21,
   "metadata": {},
   "outputs": [],
   "source": [
    "assert matrix_transpose(matrix_transpose(M3)) == M3"
   ]
  },
  {
   "cell_type": "code",
   "execution_count": 22,
   "metadata": {},
   "outputs": [],
   "source": [
    "assert matrix_transpose(M8) == [[1, 0, 1, 1], [1, 0, 2, 2], [1, 0, 3, 3], [1, 0, 1, 1]]"
   ]
  },
  {
   "cell_type": "markdown",
   "metadata": {},
   "source": [
    "# Задача 2\n",
    "\n",
    "Написать сортировку слиянием (merge sort) без рекурсии"
   ]
  },
  {
   "cell_type": "code",
   "execution_count": 23,
   "metadata": {},
   "outputs": [],
   "source": [
    "def merge_sort(array: List[int]) -> List[int]:\n",
    "    \"\"\"\n",
    "    Returns the array sorted with merge sort algorithm.\n",
    "    \"\"\"\n",
    "    \n",
    "    def merge_two_arrays(array1: List[int], array2: List[int]) -> List[int]:\n",
    "        \"\"\"\n",
    "        Returns the merged from array1 and array2 sorted array.\n",
    "        \"\"\"\n",
    "        ret_list = []\n",
    "        i, j = 0, 0\n",
    "        while i < len(array1) and j < len(array2):\n",
    "            if array1[i] < array2[j]:\n",
    "                ret_list.append(array1[i])\n",
    "                i += 1\n",
    "            else:\n",
    "                ret_list.append(array2[j])\n",
    "                j += 1\n",
    "        return ret_list + array1[i:] + array2[j:]\n",
    "    \n",
    "    if len(array) < 2:\n",
    "        return array\n",
    "    sorted_array = array.copy()\n",
    "    batch = 1\n",
    "    while batch < len(array):\n",
    "        left_index = 0\n",
    "        while left_index < len(array):\n",
    "            mid_index = left_index + batch\n",
    "            right_index = min(left_index + 2 * batch, len(array))\n",
    "            sorted_array[left_index:right_index] = merge_two_arrays(sorted_array[left_index:mid_index], \n",
    "                                                                    sorted_array[mid_index:right_index])\n",
    "            left_index += 2 * batch\n",
    "        batch *= 2\n",
    "    return sorted_array"
   ]
  },
  {
   "cell_type": "code",
   "execution_count": 24,
   "metadata": {},
   "outputs": [],
   "source": [
    "assert merge_sort(L) == sorted(L)"
   ]
  },
  {
   "cell_type": "code",
   "execution_count": 25,
   "metadata": {},
   "outputs": [],
   "source": [
    "assert merge_sort(M1[0]) == sorted(M1[0])"
   ]
  },
  {
   "cell_type": "code",
   "execution_count": 26,
   "metadata": {},
   "outputs": [],
   "source": [
    "assert merge_sort(M8[0]) == sorted(M8[0])"
   ]
  },
  {
   "cell_type": "code",
   "execution_count": 27,
   "metadata": {},
   "outputs": [],
   "source": [
    "assert merge_sort(M7[0]) == sorted(M7[0])"
   ]
  },
  {
   "cell_type": "markdown",
   "metadata": {},
   "source": [
    "# Задача 3\n",
    "\n",
    "Напишите функцию, принимающую на вход список, выводящую тот же список без дубликатов, но в обратном порядке"
   ]
  },
  {
   "cell_type": "code",
   "execution_count": 28,
   "metadata": {},
   "outputs": [],
   "source": [
    "def delete_duplicates(long_list: List[int]) -> List[int]:\n",
    "    \"\"\"\n",
    "    Returns the list without duplicates, in inverted order.\n",
    "    \"\"\"\n",
    "    ret_list = []\n",
    "    for val in long_list:\n",
    "        if val not in ret_list:\n",
    "            ret_list.append(val)\n",
    "    return ret_list[::-1]"
   ]
  },
  {
   "cell_type": "code",
   "execution_count": 29,
   "metadata": {},
   "outputs": [],
   "source": [
    "assert delete_duplicates(M1[0]) == [1, 0]"
   ]
  },
  {
   "cell_type": "code",
   "execution_count": 30,
   "metadata": {},
   "outputs": [],
   "source": [
    "assert delete_duplicates(M2[0] + M2[1]) == [5, 4, 3, 2, 1]"
   ]
  },
  {
   "cell_type": "code",
   "execution_count": 31,
   "metadata": {},
   "outputs": [],
   "source": [
    "assert delete_duplicates(M2[1] + M2[2]) == [6, 2, 3, 4, 5]"
   ]
  },
  {
   "cell_type": "code",
   "execution_count": 32,
   "metadata": {},
   "outputs": [],
   "source": [
    "assert delete_duplicates(M2[2] + M2[1]) == [2, 6, 5, 4, 3]"
   ]
  },
  {
   "cell_type": "markdown",
   "metadata": {},
   "source": [
    "# Задача 4 (Последовательности)\n",
    "\n",
    "Написать функцию, которая выясняет, является последовательность возрастающей, убывающей или она беспорядочна. На вход подается одномерный массив.\n",
    "Прим. - последовательность называется возрастающей, если каждый следующий элемент > предыдущего, и называется убывающей, если след. элемент < предыдущего. В программе нужно определить, является ли она возрастающей, убывающий или беспорядочна."
   ]
  },
  {
   "cell_type": "code",
   "execution_count": 33,
   "metadata": {},
   "outputs": [],
   "source": [
    "def indicate_list_sorting_direction(array: List[int]) -> str:\n",
    "    \"\"\"\n",
    "    Checks if the provided array is decreasing, increasing or desordered/chaotic sequence.\n",
    "    \n",
    "    :param array:    List[int], array to investigate.\n",
    "    \n",
    "    :return:         str, sequence type.\n",
    "    \n",
    "    ---\n",
    "    Example:\n",
    "    > indicate_list_sorting_direction([1, 2, 3])\n",
    "    Out[1]: 'Increasing'\n",
    "    \"\"\"\n",
    "    if len(array) < 2:\n",
    "        return 'Chaotic'\n",
    "    cur_item, next_item = array[0], array[1]\n",
    "    if cur_item > next_item:\n",
    "        if len(array) > 2:\n",
    "            for cur_item, next_item in zip(array[1:-1], array[2:]):\n",
    "                if cur_item <= next_item:\n",
    "                    return 'Chaotic'\n",
    "        return 'Decreasing'\n",
    "    if cur_item < next_item:\n",
    "        if len(array) > 2:\n",
    "            for cur_item, next_item in zip(array[1:-1], array[2:]):\n",
    "                if cur_item >= next_item:\n",
    "                    return 'Chaotic'\n",
    "        return 'Increasing'\n",
    "    return 'Chaotic'"
   ]
  },
  {
   "cell_type": "code",
   "execution_count": 34,
   "metadata": {},
   "outputs": [],
   "source": [
    "assert indicate_list_sorting_direction(M1[0]) == 'Chaotic'"
   ]
  },
  {
   "cell_type": "code",
   "execution_count": 35,
   "metadata": {},
   "outputs": [],
   "source": [
    "assert indicate_list_sorting_direction(M1[1]) == 'Chaotic'"
   ]
  },
  {
   "cell_type": "code",
   "execution_count": 36,
   "metadata": {},
   "outputs": [],
   "source": [
    "assert indicate_list_sorting_direction(M2[0]) == 'Increasing'"
   ]
  },
  {
   "cell_type": "code",
   "execution_count": 37,
   "metadata": {},
   "outputs": [],
   "source": [
    "assert indicate_list_sorting_direction(M2[1]) == 'Decreasing'"
   ]
  },
  {
   "cell_type": "markdown",
   "metadata": {},
   "source": [
    "# Задача 5 (Максимин)\n",
    "\n",
    "В двумерном массиве требуется определить, есть ли такой элемент $a_{ij}$, который был бы максимален в i-й строке и минимален в j-м столбце. Если такой элемент есть, то вывести его координаты. Если таких элементов несколько, то вывести координаты одного из них."
   ]
  },
  {
   "cell_type": "code",
   "execution_count": 38,
   "metadata": {},
   "outputs": [],
   "source": [
    "def maximin(M: Matrix) -> Tuple[int, int]:\n",
    "    \"\"\"\n",
    "    Finds the element a with [i, j] coordinates in matrix M, such that this element is the maximum\n",
    "    in the row i and the minimum in the column j.\n",
    "    \n",
    "    :param M:    Matrix to investigate.\n",
    "    \n",
    "    :return:     Tuple(int, int), one of corresponding elements indexes, or \n",
    "                 None, if no elements in M satisfy to the condition.\n",
    "    \n",
    "    ---\n",
    "    Example:\n",
    "    > maximin([[1, 2, 3]])\n",
    "    Out[1]: (0, 2)\n",
    "    \"\"\"\n",
    "    m = len(M)\n",
    "    n = len(M[0])\n",
    "    for i in range(m):\n",
    "        for j in range(n):\n",
    "            str_max = max(M[i])\n",
    "            col_min = min([M[k][j] for k in range(m)])\n",
    "            if str_max == col_min and M[i][j] == str_max:\n",
    "                return i, j"
   ]
  },
  {
   "cell_type": "code",
   "execution_count": 39,
   "metadata": {},
   "outputs": [],
   "source": [
    "assert maximin(M8) == (1, 0)"
   ]
  },
  {
   "cell_type": "code",
   "execution_count": 40,
   "metadata": {},
   "outputs": [],
   "source": [
    "assert maximin(M2) == None"
   ]
  },
  {
   "cell_type": "code",
   "execution_count": 41,
   "metadata": {},
   "outputs": [],
   "source": [
    "assert maximin(M3) == (0, 0)"
   ]
  },
  {
   "cell_type": "code",
   "execution_count": 42,
   "metadata": {},
   "outputs": [],
   "source": [
    "assert maximin(M5) == (0, 4)"
   ]
  },
  {
   "cell_type": "markdown",
   "metadata": {},
   "source": [
    "# Задача 6 (Ладья)\n",
    "Требуется определить, бьет ли ладья, стоящая на клетке с указанными координатами (номер строки и номер столбца), фигуру, стоящую на другой указанной клетке. Вводятся четыре числа: координаты ладьи (два числа) и координаты другой фигуры (два числа), каждое число вводится в отдельной строке. Координаты - целые числа в интервале от 1 до 8. Требуется вывести слово YES, если ладья сможет побить фигуру за 1 ход и NO - в противном случае.\n"
   ]
  },
  {
   "cell_type": "code",
   "execution_count": 43,
   "metadata": {},
   "outputs": [],
   "source": [
    "def is_rook_move_smashing() -> None:\n",
    "    \"\"\"\n",
    "    Check if the rook, standing on the square with the entered coordinates (row number \n",
    "    and column number), beats a piece on another indicated square with the entered \n",
    "    coordinates (row number and column number). Each coordinate is entered on a separate \n",
    "    line. The provided coordinates must be integers from 1 to 8.\n",
    "    'YES' is printed if the rook can beat a piece in one move and 'NO' otherwise.\n",
    "    \n",
    "    :return:     None.\n",
    "    \n",
    "    ---\n",
    "    Example:\n",
    "    > is_rook_move_smashing()\n",
    "    Первая координата ладьи: 8\n",
    "    Вторая координата ладьи: 3\n",
    "    Первая координата фигуры: 8\n",
    "    Вторая координата фигуры: 1\n",
    "    YES\n",
    "    \"\"\"\n",
    "    x_rook = int(input('Первая координата ладьи: '))\n",
    "    y_rook = int(input('Вторая координата ладьи: '))\n",
    "    x_piece = int(input('Первая координата фигуры: '))\n",
    "    y_piece = int(input('Вторая координата фигуры: '))\n",
    "    if x_rook == x_piece or y_rook == y_piece:\n",
    "        print('YES')\n",
    "    else:\n",
    "        print('NO')"
   ]
  },
  {
   "cell_type": "code",
   "execution_count": 44,
   "metadata": {},
   "outputs": [
    {
     "name": "stdout",
     "output_type": "stream",
     "text": [
      "Первая координата ладьи: 8\n",
      "Вторая координата ладьи: 3\n",
      "Первая координата фигуры: 1\n",
      "Вторая координата фигуры: 4\n",
      "NO\n"
     ]
    }
   ],
   "source": [
    "is_rook_move_smashing()"
   ]
  },
  {
   "cell_type": "code",
   "execution_count": 45,
   "metadata": {},
   "outputs": [
    {
     "name": "stdout",
     "output_type": "stream",
     "text": [
      "Первая координата ладьи: 2\n",
      "Вторая координата ладьи: 3\n",
      "Первая координата фигуры: 2\n",
      "Вторая координата фигуры: 4\n",
      "YES\n"
     ]
    }
   ],
   "source": [
    "is_rook_move_smashing()"
   ]
  },
  {
   "cell_type": "code",
   "execution_count": 46,
   "metadata": {},
   "outputs": [
    {
     "name": "stdout",
     "output_type": "stream",
     "text": [
      "Первая координата ладьи: 2\n",
      "Вторая координата ладьи: 3\n",
      "Первая координата фигуры: 4\n",
      "Вторая координата фигуры: 3\n",
      "YES\n"
     ]
    }
   ],
   "source": [
    "is_rook_move_smashing()"
   ]
  },
  {
   "cell_type": "code",
   "execution_count": 47,
   "metadata": {},
   "outputs": [
    {
     "name": "stdout",
     "output_type": "stream",
     "text": [
      "Первая координата ладьи: 1\n",
      "Вторая координата ладьи: 1\n",
      "Первая координата фигуры: 3\n",
      "Вторая координата фигуры: 4\n",
      "NO\n"
     ]
    }
   ],
   "source": [
    "is_rook_move_smashing()"
   ]
  },
  {
   "cell_type": "code",
   "execution_count": null,
   "metadata": {},
   "outputs": [],
   "source": []
  }
 ],
 "metadata": {
  "hide_input": false,
  "kernelspec": {
   "display_name": "Python 3 (ipykernel)",
   "language": "python",
   "name": "python3"
  },
  "language_info": {
   "codemirror_mode": {
    "name": "ipython",
    "version": 3
   },
   "file_extension": ".py",
   "mimetype": "text/x-python",
   "name": "python",
   "nbconvert_exporter": "python",
   "pygments_lexer": "ipython3",
   "version": "3.9.12"
  },
  "toc": {
   "base_numbering": 1,
   "nav_menu": {},
   "number_sections": true,
   "sideBar": true,
   "skip_h1_title": false,
   "title_cell": "Table of Contents",
   "title_sidebar": "Contents",
   "toc_cell": false,
   "toc_position": {},
   "toc_section_display": true,
   "toc_window_display": false
  },
  "varInspector": {
   "cols": {
    "lenName": 16,
    "lenType": 16,
    "lenVar": 40
   },
   "kernels_config": {
    "python": {
     "delete_cmd_postfix": "",
     "delete_cmd_prefix": "del ",
     "library": "var_list.py",
     "varRefreshCmd": "print(var_dic_list())"
    },
    "r": {
     "delete_cmd_postfix": ") ",
     "delete_cmd_prefix": "rm(",
     "library": "var_list.r",
     "varRefreshCmd": "cat(var_dic_list()) "
    }
   },
   "types_to_exclude": [
    "module",
    "function",
    "builtin_function_or_method",
    "instance",
    "_Feature"
   ],
   "window_display": false
  }
 },
 "nbformat": 4,
 "nbformat_minor": 4
}
