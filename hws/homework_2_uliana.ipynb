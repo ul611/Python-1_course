{
 "cells": [
  {
   "cell_type": "markdown",
   "metadata": {},
   "source": [
    "# Часть 1. Pandas"
   ]
  },
  {
   "cell_type": "markdown",
   "metadata": {},
   "source": [
    "У вас есть данные mobile_app_events.csv об использовании мобильного приложения пользователями, зарегистрированными с 29 июля по 1 сентября 2019 года:\n",
    "- user_id - индентификатор пользователя;\n",
    "- event_date - время события;\n",
    "- event_type - тип события:\n",
    "  - registration - регистрация в приложении; \n",
    "  - simple_event - событие \"клик\"-а приложении; \n",
    "  - purchase - оплата в приложении; \n",
    "  - purchase_amount - размер оплаты"
   ]
  },
  {
   "cell_type": "code",
   "execution_count": 1,
   "metadata": {},
   "outputs": [],
   "source": [
    "import numpy as np\n",
    "import pandas as pd"
   ]
  },
  {
   "cell_type": "code",
   "execution_count": 2,
   "metadata": {},
   "outputs": [],
   "source": [
    "mobile_app_events = pd.read_csv('mobile_app_events.csv')"
   ]
  },
  {
   "cell_type": "code",
   "execution_count": 3,
   "metadata": {},
   "outputs": [
    {
     "data": {
      "text/html": [
       "<div>\n",
       "<style scoped>\n",
       "    .dataframe tbody tr th:only-of-type {\n",
       "        vertical-align: middle;\n",
       "    }\n",
       "\n",
       "    .dataframe tbody tr th {\n",
       "        vertical-align: top;\n",
       "    }\n",
       "\n",
       "    .dataframe thead th {\n",
       "        text-align: right;\n",
       "    }\n",
       "</style>\n",
       "<table border=\"1\" class=\"dataframe\">\n",
       "  <thead>\n",
       "    <tr style=\"text-align: right;\">\n",
       "      <th></th>\n",
       "      <th>user_id</th>\n",
       "      <th>event_date</th>\n",
       "      <th>event_type</th>\n",
       "      <th>purchase_amount</th>\n",
       "    </tr>\n",
       "  </thead>\n",
       "  <tbody>\n",
       "    <tr>\n",
       "      <th>0</th>\n",
       "      <td>c40e6a</td>\n",
       "      <td>2019-07-29 00:02:15</td>\n",
       "      <td>registration</td>\n",
       "      <td>NaN</td>\n",
       "    </tr>\n",
       "    <tr>\n",
       "      <th>1</th>\n",
       "      <td>a2b682</td>\n",
       "      <td>2019-07-29 00:04:46</td>\n",
       "      <td>registration</td>\n",
       "      <td>NaN</td>\n",
       "    </tr>\n",
       "    <tr>\n",
       "      <th>2</th>\n",
       "      <td>9ac888</td>\n",
       "      <td>2019-07-29 00:13:22</td>\n",
       "      <td>registration</td>\n",
       "      <td>NaN</td>\n",
       "    </tr>\n",
       "  </tbody>\n",
       "</table>\n",
       "</div>"
      ],
      "text/plain": [
       "  user_id           event_date    event_type  purchase_amount\n",
       "0  c40e6a  2019-07-29 00:02:15  registration              NaN\n",
       "1  a2b682  2019-07-29 00:04:46  registration              NaN\n",
       "2  9ac888  2019-07-29 00:13:22  registration              NaN"
      ]
     },
     "execution_count": 3,
     "metadata": {},
     "output_type": "execute_result"
    }
   ],
   "source": [
    "mobile_app_events.head(3)"
   ]
  },
  {
   "cell_type": "code",
   "execution_count": 4,
   "metadata": {},
   "outputs": [
    {
     "data": {
      "text/html": [
       "<div>\n",
       "<style scoped>\n",
       "    .dataframe tbody tr th:only-of-type {\n",
       "        vertical-align: middle;\n",
       "    }\n",
       "\n",
       "    .dataframe tbody tr th {\n",
       "        vertical-align: top;\n",
       "    }\n",
       "\n",
       "    .dataframe thead th {\n",
       "        text-align: right;\n",
       "    }\n",
       "</style>\n",
       "<table border=\"1\" class=\"dataframe\">\n",
       "  <thead>\n",
       "    <tr style=\"text-align: right;\">\n",
       "      <th></th>\n",
       "      <th>user_id</th>\n",
       "      <th>event_date</th>\n",
       "      <th>event_type</th>\n",
       "      <th>purchase_amount</th>\n",
       "    </tr>\n",
       "  </thead>\n",
       "  <tbody>\n",
       "    <tr>\n",
       "      <th>count</th>\n",
       "      <td>79742</td>\n",
       "      <td>79742</td>\n",
       "      <td>79742</td>\n",
       "      <td>6207.000000</td>\n",
       "    </tr>\n",
       "    <tr>\n",
       "      <th>unique</th>\n",
       "      <td>9996</td>\n",
       "      <td>78509</td>\n",
       "      <td>3</td>\n",
       "      <td>NaN</td>\n",
       "    </tr>\n",
       "    <tr>\n",
       "      <th>top</th>\n",
       "      <td>aef0ea</td>\n",
       "      <td>2019-08-29 17:13:38</td>\n",
       "      <td>simple_event</td>\n",
       "      <td>NaN</td>\n",
       "    </tr>\n",
       "    <tr>\n",
       "      <th>freq</th>\n",
       "      <td>24</td>\n",
       "      <td>3</td>\n",
       "      <td>63539</td>\n",
       "      <td>NaN</td>\n",
       "    </tr>\n",
       "    <tr>\n",
       "      <th>mean</th>\n",
       "      <td>NaN</td>\n",
       "      <td>NaN</td>\n",
       "      <td>NaN</td>\n",
       "      <td>30.035444</td>\n",
       "    </tr>\n",
       "    <tr>\n",
       "      <th>std</th>\n",
       "      <td>NaN</td>\n",
       "      <td>NaN</td>\n",
       "      <td>NaN</td>\n",
       "      <td>14.101013</td>\n",
       "    </tr>\n",
       "    <tr>\n",
       "      <th>min</th>\n",
       "      <td>NaN</td>\n",
       "      <td>NaN</td>\n",
       "      <td>NaN</td>\n",
       "      <td>10.000000</td>\n",
       "    </tr>\n",
       "    <tr>\n",
       "      <th>25%</th>\n",
       "      <td>NaN</td>\n",
       "      <td>NaN</td>\n",
       "      <td>NaN</td>\n",
       "      <td>20.000000</td>\n",
       "    </tr>\n",
       "    <tr>\n",
       "      <th>50%</th>\n",
       "      <td>NaN</td>\n",
       "      <td>NaN</td>\n",
       "      <td>NaN</td>\n",
       "      <td>30.000000</td>\n",
       "    </tr>\n",
       "    <tr>\n",
       "      <th>75%</th>\n",
       "      <td>NaN</td>\n",
       "      <td>NaN</td>\n",
       "      <td>NaN</td>\n",
       "      <td>40.000000</td>\n",
       "    </tr>\n",
       "    <tr>\n",
       "      <th>max</th>\n",
       "      <td>NaN</td>\n",
       "      <td>NaN</td>\n",
       "      <td>NaN</td>\n",
       "      <td>50.000000</td>\n",
       "    </tr>\n",
       "  </tbody>\n",
       "</table>\n",
       "</div>"
      ],
      "text/plain": [
       "       user_id           event_date    event_type  purchase_amount\n",
       "count    79742                79742         79742      6207.000000\n",
       "unique    9996                78509             3              NaN\n",
       "top     aef0ea  2019-08-29 17:13:38  simple_event              NaN\n",
       "freq        24                    3         63539              NaN\n",
       "mean       NaN                  NaN           NaN        30.035444\n",
       "std        NaN                  NaN           NaN        14.101013\n",
       "min        NaN                  NaN           NaN        10.000000\n",
       "25%        NaN                  NaN           NaN        20.000000\n",
       "50%        NaN                  NaN           NaN        30.000000\n",
       "75%        NaN                  NaN           NaN        40.000000\n",
       "max        NaN                  NaN           NaN        50.000000"
      ]
     },
     "execution_count": 4,
     "metadata": {},
     "output_type": "execute_result"
    }
   ],
   "source": [
    "mobile_app_events.describe(include='all')"
   ]
  },
  {
   "cell_type": "markdown",
   "metadata": {},
   "source": [
    "#### 1. Разделить пользователей на когорты на основе номера недели регистрации пользователя в приложении — в качестве идентификатора когорты использовать номер недели в году."
   ]
  },
  {
   "cell_type": "code",
   "execution_count": 5,
   "metadata": {
    "scrolled": true
   },
   "outputs": [],
   "source": [
    "mobile_app_events.loc[:, 'event_date'] = pd.to_datetime(mobile_app_events['event_date'], \n",
    "                                                        infer_datetime_format=True)"
   ]
  },
  {
   "cell_type": "code",
   "execution_count": 6,
   "metadata": {},
   "outputs": [
    {
     "data": {
      "text/plain": [
       "array(['registration', 'simple_event', 'purchase'], dtype=object)"
      ]
     },
     "execution_count": 6,
     "metadata": {},
     "output_type": "execute_result"
    }
   ],
   "source": [
    "mobile_app_events['event_type'].unique()"
   ]
  },
  {
   "cell_type": "code",
   "execution_count": 7,
   "metadata": {},
   "outputs": [],
   "source": [
    "user_cohort_count = mobile_app_events.query('event_type == \"registration\"')[['user_id', 'event_date']\n",
    "                                                                           ].groupby('user_id').count()"
   ]
  },
  {
   "cell_type": "code",
   "execution_count": 8,
   "metadata": {},
   "outputs": [
    {
     "data": {
      "text/html": [
       "<div>\n",
       "<style scoped>\n",
       "    .dataframe tbody tr th:only-of-type {\n",
       "        vertical-align: middle;\n",
       "    }\n",
       "\n",
       "    .dataframe tbody tr th {\n",
       "        vertical-align: top;\n",
       "    }\n",
       "\n",
       "    .dataframe thead th {\n",
       "        text-align: right;\n",
       "    }\n",
       "</style>\n",
       "<table border=\"1\" class=\"dataframe\">\n",
       "  <thead>\n",
       "    <tr style=\"text-align: right;\">\n",
       "      <th></th>\n",
       "      <th>event_date</th>\n",
       "    </tr>\n",
       "    <tr>\n",
       "      <th>user_id</th>\n",
       "      <th></th>\n",
       "    </tr>\n",
       "  </thead>\n",
       "  <tbody>\n",
       "  </tbody>\n",
       "</table>\n",
       "</div>"
      ],
      "text/plain": [
       "Empty DataFrame\n",
       "Columns: [event_date]\n",
       "Index: []"
      ]
     },
     "execution_count": 8,
     "metadata": {},
     "output_type": "execute_result"
    }
   ],
   "source": [
    "user_cohort_count[user_cohort_count.event_date >1]"
   ]
  },
  {
   "cell_type": "code",
   "execution_count": 9,
   "metadata": {},
   "outputs": [],
   "source": [
    "user_cohort = mobile_app_events.query('event_type == \"registration\"')[['user_id', 'event_date']]"
   ]
  },
  {
   "cell_type": "code",
   "execution_count": 10,
   "metadata": {
    "scrolled": true
   },
   "outputs": [],
   "source": [
    "user_cohort['cohort'] = user_cohort['event_date'].dt.isocalendar().week"
   ]
  },
  {
   "cell_type": "code",
   "execution_count": 11,
   "metadata": {},
   "outputs": [
    {
     "data": {
      "text/html": [
       "<div>\n",
       "<style scoped>\n",
       "    .dataframe tbody tr th:only-of-type {\n",
       "        vertical-align: middle;\n",
       "    }\n",
       "\n",
       "    .dataframe tbody tr th {\n",
       "        vertical-align: top;\n",
       "    }\n",
       "\n",
       "    .dataframe thead th {\n",
       "        text-align: right;\n",
       "    }\n",
       "</style>\n",
       "<table border=\"1\" class=\"dataframe\">\n",
       "  <thead>\n",
       "    <tr style=\"text-align: right;\">\n",
       "      <th></th>\n",
       "      <th>user_id</th>\n",
       "      <th>event_date</th>\n",
       "      <th>cohort</th>\n",
       "    </tr>\n",
       "  </thead>\n",
       "  <tbody>\n",
       "    <tr>\n",
       "      <th>0</th>\n",
       "      <td>c40e6a</td>\n",
       "      <td>2019-07-29 00:02:15</td>\n",
       "      <td>31</td>\n",
       "    </tr>\n",
       "    <tr>\n",
       "      <th>1</th>\n",
       "      <td>a2b682</td>\n",
       "      <td>2019-07-29 00:04:46</td>\n",
       "      <td>31</td>\n",
       "    </tr>\n",
       "    <tr>\n",
       "      <th>2</th>\n",
       "      <td>9ac888</td>\n",
       "      <td>2019-07-29 00:13:22</td>\n",
       "      <td>31</td>\n",
       "    </tr>\n",
       "    <tr>\n",
       "      <th>3</th>\n",
       "      <td>93ff22</td>\n",
       "      <td>2019-07-29 00:16:47</td>\n",
       "      <td>31</td>\n",
       "    </tr>\n",
       "    <tr>\n",
       "      <th>4</th>\n",
       "      <td>65ef85</td>\n",
       "      <td>2019-07-29 00:19:23</td>\n",
       "      <td>31</td>\n",
       "    </tr>\n",
       "  </tbody>\n",
       "</table>\n",
       "</div>"
      ],
      "text/plain": [
       "  user_id          event_date  cohort\n",
       "0  c40e6a 2019-07-29 00:02:15      31\n",
       "1  a2b682 2019-07-29 00:04:46      31\n",
       "2  9ac888 2019-07-29 00:13:22      31\n",
       "3  93ff22 2019-07-29 00:16:47      31\n",
       "4  65ef85 2019-07-29 00:19:23      31"
      ]
     },
     "execution_count": 11,
     "metadata": {},
     "output_type": "execute_result"
    }
   ],
   "source": [
    "user_cohort.head()"
   ]
  },
  {
   "cell_type": "markdown",
   "metadata": {},
   "source": [
    "#### 2. Сколько уникальных пользователей в когорте с ID 33?"
   ]
  },
  {
   "cell_type": "code",
   "execution_count": 12,
   "metadata": {},
   "outputs": [
    {
     "data": {
      "text/plain": [
       "2045"
      ]
     },
     "execution_count": 12,
     "metadata": {},
     "output_type": "execute_result"
    }
   ],
   "source": [
    "len(user_cohort[user_cohort.cohort == 33])"
   ]
  },
  {
   "cell_type": "markdown",
   "metadata": {},
   "source": [
    "#### 3. Для каждого события посчитать столбец lifetime - кол-во недель с момента регистрации до этого события. Например, если пользователь из когорты с ID 31 совершил действие 3го августа, то соответствующее значение будет 0. Если же тот же пользователь совершит событие 5го августа, то значение будет 1."
   ]
  },
  {
   "cell_type": "code",
   "execution_count": 13,
   "metadata": {},
   "outputs": [],
   "source": [
    "mobile_app_events['reg_date'] = mobile_app_events.user_id.map(dict(zip(user_cohort.user_id, \n",
    "                                                                       user_cohort.event_date)))"
   ]
  },
  {
   "cell_type": "code",
   "execution_count": 14,
   "metadata": {},
   "outputs": [],
   "source": [
    "mobile_app_events['reg_cohort'] = mobile_app_events.user_id.map(dict(zip(user_cohort.user_id, \n",
    "                                                                       user_cohort.cohort)))"
   ]
  },
  {
   "cell_type": "code",
   "execution_count": 15,
   "metadata": {},
   "outputs": [],
   "source": [
    "mobile_app_events['event_cohort'] = mobile_app_events['event_date'].dt.isocalendar().week"
   ]
  },
  {
   "cell_type": "code",
   "execution_count": 16,
   "metadata": {},
   "outputs": [],
   "source": [
    "mobile_app_events['lifetime'] = mobile_app_events['event_cohort'] - mobile_app_events['reg_cohort']"
   ]
  },
  {
   "cell_type": "markdown",
   "metadata": {},
   "source": [
    "#### 4. Рассчитать таблицу изменений Retention Rate (Коэффициент удержания клиентов = Количество клиентов в конце периода - Количество клиентов, приобретенных в течение периода / Количество клиентов в начале периода * 100%) для всех когорт и значений lifetime"
   ]
  },
  {
   "cell_type": "code",
   "execution_count": 17,
   "metadata": {},
   "outputs": [
    {
     "data": {
      "text/html": [
       "<div>\n",
       "<style scoped>\n",
       "    .dataframe tbody tr th:only-of-type {\n",
       "        vertical-align: middle;\n",
       "    }\n",
       "\n",
       "    .dataframe tbody tr th {\n",
       "        vertical-align: top;\n",
       "    }\n",
       "\n",
       "    .dataframe thead th {\n",
       "        text-align: right;\n",
       "    }\n",
       "</style>\n",
       "<table border=\"1\" class=\"dataframe\">\n",
       "  <thead>\n",
       "    <tr style=\"text-align: right;\">\n",
       "      <th></th>\n",
       "      <th>user_id</th>\n",
       "      <th>event_date</th>\n",
       "      <th>event_type</th>\n",
       "      <th>purchase_amount</th>\n",
       "      <th>reg_date</th>\n",
       "      <th>reg_cohort</th>\n",
       "      <th>event_cohort</th>\n",
       "      <th>lifetime</th>\n",
       "    </tr>\n",
       "  </thead>\n",
       "  <tbody>\n",
       "    <tr>\n",
       "      <th>0</th>\n",
       "      <td>c40e6a</td>\n",
       "      <td>2019-07-29 00:02:15</td>\n",
       "      <td>registration</td>\n",
       "      <td>NaN</td>\n",
       "      <td>2019-07-29 00:02:15</td>\n",
       "      <td>31</td>\n",
       "      <td>31</td>\n",
       "      <td>0</td>\n",
       "    </tr>\n",
       "    <tr>\n",
       "      <th>1</th>\n",
       "      <td>a2b682</td>\n",
       "      <td>2019-07-29 00:04:46</td>\n",
       "      <td>registration</td>\n",
       "      <td>NaN</td>\n",
       "      <td>2019-07-29 00:04:46</td>\n",
       "      <td>31</td>\n",
       "      <td>31</td>\n",
       "      <td>0</td>\n",
       "    </tr>\n",
       "    <tr>\n",
       "      <th>2</th>\n",
       "      <td>9ac888</td>\n",
       "      <td>2019-07-29 00:13:22</td>\n",
       "      <td>registration</td>\n",
       "      <td>NaN</td>\n",
       "      <td>2019-07-29 00:13:22</td>\n",
       "      <td>31</td>\n",
       "      <td>31</td>\n",
       "      <td>0</td>\n",
       "    </tr>\n",
       "    <tr>\n",
       "      <th>3</th>\n",
       "      <td>93ff22</td>\n",
       "      <td>2019-07-29 00:16:47</td>\n",
       "      <td>registration</td>\n",
       "      <td>NaN</td>\n",
       "      <td>2019-07-29 00:16:47</td>\n",
       "      <td>31</td>\n",
       "      <td>31</td>\n",
       "      <td>0</td>\n",
       "    </tr>\n",
       "    <tr>\n",
       "      <th>4</th>\n",
       "      <td>65ef85</td>\n",
       "      <td>2019-07-29 00:19:23</td>\n",
       "      <td>registration</td>\n",
       "      <td>NaN</td>\n",
       "      <td>2019-07-29 00:19:23</td>\n",
       "      <td>31</td>\n",
       "      <td>31</td>\n",
       "      <td>0</td>\n",
       "    </tr>\n",
       "  </tbody>\n",
       "</table>\n",
       "</div>"
      ],
      "text/plain": [
       "  user_id          event_date    event_type  purchase_amount  \\\n",
       "0  c40e6a 2019-07-29 00:02:15  registration              NaN   \n",
       "1  a2b682 2019-07-29 00:04:46  registration              NaN   \n",
       "2  9ac888 2019-07-29 00:13:22  registration              NaN   \n",
       "3  93ff22 2019-07-29 00:16:47  registration              NaN   \n",
       "4  65ef85 2019-07-29 00:19:23  registration              NaN   \n",
       "\n",
       "             reg_date  reg_cohort  event_cohort  lifetime  \n",
       "0 2019-07-29 00:02:15          31            31         0  \n",
       "1 2019-07-29 00:04:46          31            31         0  \n",
       "2 2019-07-29 00:13:22          31            31         0  \n",
       "3 2019-07-29 00:16:47          31            31         0  \n",
       "4 2019-07-29 00:19:23          31            31         0  "
      ]
     },
     "execution_count": 17,
     "metadata": {},
     "output_type": "execute_result"
    }
   ],
   "source": [
    "mobile_app_events.head()"
   ]
  },
  {
   "cell_type": "code",
   "execution_count": 18,
   "metadata": {},
   "outputs": [],
   "source": [
    "mobile_app_events_groupped = mobile_app_events.groupby(['user_id', 'lifetime']).first().reset_index()"
   ]
  },
  {
   "cell_type": "code",
   "execution_count": 19,
   "metadata": {},
   "outputs": [
    {
     "data": {
      "text/html": [
       "<div>\n",
       "<style scoped>\n",
       "    .dataframe tbody tr th:only-of-type {\n",
       "        vertical-align: middle;\n",
       "    }\n",
       "\n",
       "    .dataframe tbody tr th {\n",
       "        vertical-align: top;\n",
       "    }\n",
       "\n",
       "    .dataframe thead th {\n",
       "        text-align: right;\n",
       "    }\n",
       "</style>\n",
       "<table border=\"1\" class=\"dataframe\">\n",
       "  <thead>\n",
       "    <tr style=\"text-align: right;\">\n",
       "      <th></th>\n",
       "      <th>user_id</th>\n",
       "      <th>lifetime</th>\n",
       "      <th>event_date</th>\n",
       "      <th>event_type</th>\n",
       "      <th>purchase_amount</th>\n",
       "      <th>reg_date</th>\n",
       "      <th>reg_cohort</th>\n",
       "      <th>event_cohort</th>\n",
       "    </tr>\n",
       "  </thead>\n",
       "  <tbody>\n",
       "    <tr>\n",
       "      <th>0</th>\n",
       "      <td>00049f</td>\n",
       "      <td>0</td>\n",
       "      <td>2019-08-18 16:21:02</td>\n",
       "      <td>registration</td>\n",
       "      <td>10.0</td>\n",
       "      <td>2019-08-18 16:21:02</td>\n",
       "      <td>33</td>\n",
       "      <td>33</td>\n",
       "    </tr>\n",
       "    <tr>\n",
       "      <th>1</th>\n",
       "      <td>00049f</td>\n",
       "      <td>1</td>\n",
       "      <td>2019-08-19 22:12:46</td>\n",
       "      <td>simple_event</td>\n",
       "      <td>NaN</td>\n",
       "      <td>2019-08-18 16:21:02</td>\n",
       "      <td>33</td>\n",
       "      <td>34</td>\n",
       "    </tr>\n",
       "    <tr>\n",
       "      <th>2</th>\n",
       "      <td>00049f</td>\n",
       "      <td>2</td>\n",
       "      <td>2019-08-27 12:37:53</td>\n",
       "      <td>simple_event</td>\n",
       "      <td>NaN</td>\n",
       "      <td>2019-08-18 16:21:02</td>\n",
       "      <td>33</td>\n",
       "      <td>35</td>\n",
       "    </tr>\n",
       "    <tr>\n",
       "      <th>3</th>\n",
       "      <td>0005f9</td>\n",
       "      <td>0</td>\n",
       "      <td>2019-08-29 16:24:42</td>\n",
       "      <td>registration</td>\n",
       "      <td>NaN</td>\n",
       "      <td>2019-08-29 16:24:42</td>\n",
       "      <td>35</td>\n",
       "      <td>35</td>\n",
       "    </tr>\n",
       "    <tr>\n",
       "      <th>4</th>\n",
       "      <td>00082c</td>\n",
       "      <td>0</td>\n",
       "      <td>2019-08-03 17:37:37</td>\n",
       "      <td>registration</td>\n",
       "      <td>NaN</td>\n",
       "      <td>2019-08-03 17:37:37</td>\n",
       "      <td>31</td>\n",
       "      <td>31</td>\n",
       "    </tr>\n",
       "  </tbody>\n",
       "</table>\n",
       "</div>"
      ],
      "text/plain": [
       "  user_id  lifetime          event_date    event_type  purchase_amount  \\\n",
       "0  00049f         0 2019-08-18 16:21:02  registration             10.0   \n",
       "1  00049f         1 2019-08-19 22:12:46  simple_event              NaN   \n",
       "2  00049f         2 2019-08-27 12:37:53  simple_event              NaN   \n",
       "3  0005f9         0 2019-08-29 16:24:42  registration              NaN   \n",
       "4  00082c         0 2019-08-03 17:37:37  registration              NaN   \n",
       "\n",
       "             reg_date  reg_cohort  event_cohort  \n",
       "0 2019-08-18 16:21:02          33            33  \n",
       "1 2019-08-18 16:21:02          33            34  \n",
       "2 2019-08-18 16:21:02          33            35  \n",
       "3 2019-08-29 16:24:42          35            35  \n",
       "4 2019-08-03 17:37:37          31            31  "
      ]
     },
     "execution_count": 19,
     "metadata": {},
     "output_type": "execute_result"
    }
   ],
   "source": [
    "mobile_app_events_groupped.head()"
   ]
  },
  {
   "cell_type": "code",
   "execution_count": 20,
   "metadata": {},
   "outputs": [
    {
     "data": {
      "text/plain": [
       "array([33, 35, 31, 34, 32], dtype=int32)"
      ]
     },
     "execution_count": 20,
     "metadata": {},
     "output_type": "execute_result"
    }
   ],
   "source": [
    "mobile_app_events_groupped.reg_cohort.unique()"
   ]
  },
  {
   "cell_type": "code",
   "execution_count": 21,
   "metadata": {},
   "outputs": [],
   "source": [
    "abs_retention = mobile_app_events_groupped[['reg_cohort', 'lifetime', 'user_id']\n",
    "                          ].groupby(['reg_cohort', 'lifetime']\n",
    "                                   ).count().rename(columns={'user_id':'users'}).unstack(\n",
    "                                        ).fillna(0)"
   ]
  },
  {
   "cell_type": "code",
   "execution_count": 22,
   "metadata": {
    "scrolled": true
   },
   "outputs": [],
   "source": [
    "RR = abs_retention.apply(lambda x: round(100 * x / x[(\"users\", 0)], 2), axis=1)"
   ]
  },
  {
   "cell_type": "code",
   "execution_count": 23,
   "metadata": {},
   "outputs": [
    {
     "data": {
      "text/html": [
       "<style type=\"text/css\">\n",
       "#T_38b26_row0_col0, #T_38b26_row1_col0, #T_38b26_row2_col0, #T_38b26_row3_col0, #T_38b26_row4_col0 {\n",
       "  background-color: #08306b;\n",
       "  color: #f1f1f1;\n",
       "}\n",
       "#T_38b26_row0_col1 {\n",
       "  background-color: #08468b;\n",
       "  color: #f1f1f1;\n",
       "}\n",
       "#T_38b26_row0_col2 {\n",
       "  background-color: #56a0ce;\n",
       "  color: #f1f1f1;\n",
       "}\n",
       "#T_38b26_row0_col3 {\n",
       "  background-color: #c7dcef;\n",
       "  color: #000000;\n",
       "}\n",
       "#T_38b26_row0_col4, #T_38b26_row1_col4, #T_38b26_row2_col3, #T_38b26_row2_col4, #T_38b26_row3_col2, #T_38b26_row3_col3, #T_38b26_row3_col4, #T_38b26_row4_col1, #T_38b26_row4_col2, #T_38b26_row4_col3, #T_38b26_row4_col4 {\n",
       "  background-color: #f7fbff;\n",
       "  color: #000000;\n",
       "}\n",
       "#T_38b26_row1_col1, #T_38b26_row3_col1 {\n",
       "  background-color: #084387;\n",
       "  color: #f1f1f1;\n",
       "}\n",
       "#T_38b26_row1_col2 {\n",
       "  background-color: #3c8cc3;\n",
       "  color: #f1f1f1;\n",
       "}\n",
       "#T_38b26_row1_col3 {\n",
       "  background-color: #a3cce3;\n",
       "  color: #000000;\n",
       "}\n",
       "#T_38b26_row2_col1 {\n",
       "  background-color: #084488;\n",
       "  color: #f1f1f1;\n",
       "}\n",
       "#T_38b26_row2_col2 {\n",
       "  background-color: #3888c1;\n",
       "  color: #f1f1f1;\n",
       "}\n",
       "</style>\n",
       "<table id=\"T_38b26_\">\n",
       "  <thead>\n",
       "    <tr>\n",
       "      <th class=\"blank level0\" >&nbsp;</th>\n",
       "      <th class=\"col_heading level0 col0\" colspan=\"5\">users</th>\n",
       "    </tr>\n",
       "    <tr>\n",
       "      <th class=\"index_name level1\" >lifetime</th>\n",
       "      <th class=\"col_heading level1 col0\" >0</th>\n",
       "      <th class=\"col_heading level1 col1\" >1</th>\n",
       "      <th class=\"col_heading level1 col2\" >2</th>\n",
       "      <th class=\"col_heading level1 col3\" >3</th>\n",
       "      <th class=\"col_heading level1 col4\" >4</th>\n",
       "    </tr>\n",
       "    <tr>\n",
       "      <th class=\"index_name level0\" >reg_cohort</th>\n",
       "      <th class=\"blank col0\" >&nbsp;</th>\n",
       "      <th class=\"blank col1\" >&nbsp;</th>\n",
       "      <th class=\"blank col2\" >&nbsp;</th>\n",
       "      <th class=\"blank col3\" >&nbsp;</th>\n",
       "      <th class=\"blank col4\" >&nbsp;</th>\n",
       "    </tr>\n",
       "  </thead>\n",
       "  <tbody>\n",
       "    <tr>\n",
       "      <th id=\"T_38b26_level0_row0\" class=\"row_heading level0 row0\" >31</th>\n",
       "      <td id=\"T_38b26_row0_col0\" class=\"data row0 col0\" >100.000000</td>\n",
       "      <td id=\"T_38b26_row0_col1\" class=\"data row0 col1\" >92.760000</td>\n",
       "      <td id=\"T_38b26_row0_col2\" class=\"data row0 col2\" >62.940000</td>\n",
       "      <td id=\"T_38b26_row0_col3\" class=\"data row0 col3\" >35.700000</td>\n",
       "      <td id=\"T_38b26_row0_col4\" class=\"data row0 col4\" >15.040000</td>\n",
       "    </tr>\n",
       "    <tr>\n",
       "      <th id=\"T_38b26_level0_row1\" class=\"row_heading level0 row1\" >32</th>\n",
       "      <td id=\"T_38b26_row1_col0\" class=\"data row1 col0\" >100.000000</td>\n",
       "      <td id=\"T_38b26_row1_col1\" class=\"data row1 col1\" >92.930000</td>\n",
       "      <td id=\"T_38b26_row1_col2\" class=\"data row1 col2\" >64.810000</td>\n",
       "      <td id=\"T_38b26_row1_col3\" class=\"data row1 col3\" >36.120000</td>\n",
       "      <td id=\"T_38b26_row1_col4\" class=\"data row1 col4\" >0.000000</td>\n",
       "    </tr>\n",
       "    <tr>\n",
       "      <th id=\"T_38b26_level0_row2\" class=\"row_heading level0 row2\" >33</th>\n",
       "      <td id=\"T_38b26_row2_col0\" class=\"data row2 col0\" >100.000000</td>\n",
       "      <td id=\"T_38b26_row2_col1\" class=\"data row2 col1\" >92.420000</td>\n",
       "      <td id=\"T_38b26_row2_col2\" class=\"data row2 col2\" >66.110000</td>\n",
       "      <td id=\"T_38b26_row2_col3\" class=\"data row2 col3\" >0.000000</td>\n",
       "      <td id=\"T_38b26_row2_col4\" class=\"data row2 col4\" >0.000000</td>\n",
       "    </tr>\n",
       "    <tr>\n",
       "      <th id=\"T_38b26_level0_row3\" class=\"row_heading level0 row3\" >34</th>\n",
       "      <td id=\"T_38b26_row3_col0\" class=\"data row3 col0\" >100.000000</td>\n",
       "      <td id=\"T_38b26_row3_col1\" class=\"data row3 col1\" >92.910000</td>\n",
       "      <td id=\"T_38b26_row3_col2\" class=\"data row3 col2\" >0.000000</td>\n",
       "      <td id=\"T_38b26_row3_col3\" class=\"data row3 col3\" >0.000000</td>\n",
       "      <td id=\"T_38b26_row3_col4\" class=\"data row3 col4\" >0.000000</td>\n",
       "    </tr>\n",
       "    <tr>\n",
       "      <th id=\"T_38b26_level0_row4\" class=\"row_heading level0 row4\" >35</th>\n",
       "      <td id=\"T_38b26_row4_col0\" class=\"data row4 col0\" >100.000000</td>\n",
       "      <td id=\"T_38b26_row4_col1\" class=\"data row4 col1\" >0.000000</td>\n",
       "      <td id=\"T_38b26_row4_col2\" class=\"data row4 col2\" >0.000000</td>\n",
       "      <td id=\"T_38b26_row4_col3\" class=\"data row4 col3\" >0.000000</td>\n",
       "      <td id=\"T_38b26_row4_col4\" class=\"data row4 col4\" >0.000000</td>\n",
       "    </tr>\n",
       "  </tbody>\n",
       "</table>\n"
      ],
      "text/plain": [
       "<pandas.io.formats.style.Styler at 0x7f74ca8a67c0>"
      ]
     },
     "execution_count": 23,
     "metadata": {},
     "output_type": "execute_result"
    }
   ],
   "source": [
    "RR.style.background_gradient(cmap='Blues', axis=1)"
   ]
  },
  {
   "cell_type": "markdown",
   "metadata": {},
   "source": [
    "#### 5. Рассчитать трёхнедельный Retention Rate для когорты с ID 32. Ответ дать числом с плавающей точкой, округлённым до 2 знаков после запятой."
   ]
  },
  {
   "cell_type": "code",
   "execution_count": 24,
   "metadata": {
    "scrolled": true
   },
   "outputs": [
    {
     "data": {
      "text/plain": [
       "36.12"
      ]
     },
     "execution_count": 24,
     "metadata": {},
     "output_type": "execute_result"
    }
   ],
   "source": [
    "RR.loc[32, (\"users\", 3)]"
   ]
  },
  {
   "cell_type": "markdown",
   "metadata": {},
   "source": [
    "#### 6. Рассчитать таблицу изменений ARPPU (Average Revenue Per Paying User) для всех когорт и значений lifetime."
   ]
  },
  {
   "cell_type": "code",
   "execution_count": 25,
   "metadata": {},
   "outputs": [],
   "source": [
    "paying_users_df = mobile_app_events[~pd.isnull(mobile_app_events.purchase_amount)]"
   ]
  },
  {
   "cell_type": "code",
   "execution_count": 26,
   "metadata": {},
   "outputs": [
    {
     "data": {
      "text/plain": [
       "10.0"
      ]
     },
     "execution_count": 26,
     "metadata": {},
     "output_type": "execute_result"
    }
   ],
   "source": [
    "# check the minimum purchase amount\n",
    "\n",
    "paying_users_df.purchase_amount.min()"
   ]
  },
  {
   "cell_type": "code",
   "execution_count": 27,
   "metadata": {},
   "outputs": [],
   "source": [
    "ARPPU = paying_users_df[['reg_cohort', 'lifetime', 'purchase_amount', 'user_id']\n",
    "                       ].groupby(['reg_cohort', 'lifetime']).agg(\n",
    "        revenue = pd.NamedAgg(column='purchase_amount', aggfunc='sum'),\n",
    "        n_users = pd.NamedAgg(column='user_id', aggfunc='count'))\n",
    "\n",
    "ARPPU['ARPPU'] = round(ARPPU['revenue'] / ARPPU['n_users'], 2)\n",
    "ARPPU = ARPPU[['ARPPU']].unstack().fillna(0)"
   ]
  },
  {
   "cell_type": "code",
   "execution_count": 28,
   "metadata": {},
   "outputs": [
    {
     "data": {
      "text/html": [
       "<style type=\"text/css\">\n",
       "#T_dbdde_row0_col0, #T_dbdde_row1_col4, #T_dbdde_row2_col3, #T_dbdde_row2_col4, #T_dbdde_row3_col2, #T_dbdde_row3_col3, #T_dbdde_row3_col4, #T_dbdde_row4_col1, #T_dbdde_row4_col2, #T_dbdde_row4_col3, #T_dbdde_row4_col4 {\n",
       "  background-color: #f7fbff;\n",
       "  color: #000000;\n",
       "}\n",
       "#T_dbdde_row0_col1 {\n",
       "  background-color: #529dcc;\n",
       "  color: #f1f1f1;\n",
       "}\n",
       "#T_dbdde_row0_col2, #T_dbdde_row1_col0, #T_dbdde_row2_col0, #T_dbdde_row3_col1, #T_dbdde_row4_col0 {\n",
       "  background-color: #08306b;\n",
       "  color: #f1f1f1;\n",
       "}\n",
       "#T_dbdde_row0_col3 {\n",
       "  background-color: #8abfdd;\n",
       "  color: #000000;\n",
       "}\n",
       "#T_dbdde_row0_col4 {\n",
       "  background-color: #083776;\n",
       "  color: #f1f1f1;\n",
       "}\n",
       "#T_dbdde_row1_col1 {\n",
       "  background-color: #083370;\n",
       "  color: #f1f1f1;\n",
       "}\n",
       "#T_dbdde_row1_col2 {\n",
       "  background-color: #08326e;\n",
       "  color: #f1f1f1;\n",
       "}\n",
       "#T_dbdde_row1_col3 {\n",
       "  background-color: #083573;\n",
       "  color: #f1f1f1;\n",
       "}\n",
       "#T_dbdde_row2_col1, #T_dbdde_row3_col0 {\n",
       "  background-color: #08316d;\n",
       "  color: #f1f1f1;\n",
       "}\n",
       "#T_dbdde_row2_col2 {\n",
       "  background-color: #083c7d;\n",
       "  color: #f1f1f1;\n",
       "}\n",
       "</style>\n",
       "<table id=\"T_dbdde_\">\n",
       "  <thead>\n",
       "    <tr>\n",
       "      <th class=\"blank level0\" >&nbsp;</th>\n",
       "      <th class=\"col_heading level0 col0\" colspan=\"5\">ARPPU</th>\n",
       "    </tr>\n",
       "    <tr>\n",
       "      <th class=\"index_name level1\" >lifetime</th>\n",
       "      <th class=\"col_heading level1 col0\" >0</th>\n",
       "      <th class=\"col_heading level1 col1\" >1</th>\n",
       "      <th class=\"col_heading level1 col2\" >2</th>\n",
       "      <th class=\"col_heading level1 col3\" >3</th>\n",
       "      <th class=\"col_heading level1 col4\" >4</th>\n",
       "    </tr>\n",
       "    <tr>\n",
       "      <th class=\"index_name level0\" >reg_cohort</th>\n",
       "      <th class=\"blank col0\" >&nbsp;</th>\n",
       "      <th class=\"blank col1\" >&nbsp;</th>\n",
       "      <th class=\"blank col2\" >&nbsp;</th>\n",
       "      <th class=\"blank col3\" >&nbsp;</th>\n",
       "      <th class=\"blank col4\" >&nbsp;</th>\n",
       "    </tr>\n",
       "  </thead>\n",
       "  <tbody>\n",
       "    <tr>\n",
       "      <th id=\"T_dbdde_level0_row0\" class=\"row_heading level0 row0\" >31</th>\n",
       "      <td id=\"T_dbdde_row0_col0\" class=\"data row0 col0\" >28.130000</td>\n",
       "      <td id=\"T_dbdde_row0_col1\" class=\"data row0 col1\" >29.510000</td>\n",
       "      <td id=\"T_dbdde_row0_col2\" class=\"data row0 col2\" >30.520000</td>\n",
       "      <td id=\"T_dbdde_row0_col3\" class=\"data row0 col3\" >29.140000</td>\n",
       "      <td id=\"T_dbdde_row0_col4\" class=\"data row0 col4\" >30.450000</td>\n",
       "    </tr>\n",
       "    <tr>\n",
       "      <th id=\"T_dbdde_level0_row1\" class=\"row_heading level0 row1\" >32</th>\n",
       "      <td id=\"T_dbdde_row1_col0\" class=\"data row1 col0\" >30.220000</td>\n",
       "      <td id=\"T_dbdde_row1_col1\" class=\"data row1 col1\" >29.770000</td>\n",
       "      <td id=\"T_dbdde_row1_col2\" class=\"data row1 col2\" >29.930000</td>\n",
       "      <td id=\"T_dbdde_row1_col3\" class=\"data row1 col3\" >29.530000</td>\n",
       "      <td id=\"T_dbdde_row1_col4\" class=\"data row1 col4\" >0.000000</td>\n",
       "    </tr>\n",
       "    <tr>\n",
       "      <th id=\"T_dbdde_level0_row2\" class=\"row_heading level0 row2\" >33</th>\n",
       "      <td id=\"T_dbdde_row2_col0\" class=\"data row2 col0\" >30.690000</td>\n",
       "      <td id=\"T_dbdde_row2_col1\" class=\"data row2 col1\" >30.520000</td>\n",
       "      <td id=\"T_dbdde_row2_col2\" class=\"data row2 col2\" >29.170000</td>\n",
       "      <td id=\"T_dbdde_row2_col3\" class=\"data row2 col3\" >0.000000</td>\n",
       "      <td id=\"T_dbdde_row2_col4\" class=\"data row2 col4\" >0.000000</td>\n",
       "    </tr>\n",
       "    <tr>\n",
       "      <th id=\"T_dbdde_level0_row3\" class=\"row_heading level0 row3\" >34</th>\n",
       "      <td id=\"T_dbdde_row3_col0\" class=\"data row3 col0\" >30.780000</td>\n",
       "      <td id=\"T_dbdde_row3_col1\" class=\"data row3 col1\" >30.930000</td>\n",
       "      <td id=\"T_dbdde_row3_col2\" class=\"data row3 col2\" >0.000000</td>\n",
       "      <td id=\"T_dbdde_row3_col3\" class=\"data row3 col3\" >0.000000</td>\n",
       "      <td id=\"T_dbdde_row3_col4\" class=\"data row3 col4\" >0.000000</td>\n",
       "    </tr>\n",
       "    <tr>\n",
       "      <th id=\"T_dbdde_level0_row4\" class=\"row_heading level0 row4\" >35</th>\n",
       "      <td id=\"T_dbdde_row4_col0\" class=\"data row4 col0\" >30.720000</td>\n",
       "      <td id=\"T_dbdde_row4_col1\" class=\"data row4 col1\" >0.000000</td>\n",
       "      <td id=\"T_dbdde_row4_col2\" class=\"data row4 col2\" >0.000000</td>\n",
       "      <td id=\"T_dbdde_row4_col3\" class=\"data row4 col3\" >0.000000</td>\n",
       "      <td id=\"T_dbdde_row4_col4\" class=\"data row4 col4\" >0.000000</td>\n",
       "    </tr>\n",
       "  </tbody>\n",
       "</table>\n"
      ],
      "text/plain": [
       "<pandas.io.formats.style.Styler at 0x7f74cacfdac0>"
      ]
     },
     "execution_count": 28,
     "metadata": {},
     "output_type": "execute_result"
    }
   ],
   "source": [
    "ARPPU.style.background_gradient(cmap='Blues', axis=1)"
   ]
  },
  {
   "cell_type": "markdown",
   "metadata": {},
   "source": [
    "#### 7. Рассчитать трёхнедельный ARPPU для когорты с ID 31. Ответ дать числом с плавающей точкой, округлённым до 2 знаков после запятой."
   ]
  },
  {
   "cell_type": "code",
   "execution_count": 29,
   "metadata": {},
   "outputs": [
    {
     "data": {
      "text/plain": [
       "29.14"
      ]
     },
     "execution_count": 29,
     "metadata": {},
     "output_type": "execute_result"
    }
   ],
   "source": [
    "ARPPU.loc[31, (\"ARPPU\", 3)]"
   ]
  },
  {
   "cell_type": "markdown",
   "metadata": {},
   "source": [
    "#### 8. Рассчитать медианное время между регистрацией и первой покупкой. Ответ дать целым числом в секундах."
   ]
  },
  {
   "cell_type": "code",
   "execution_count": 30,
   "metadata": {},
   "outputs": [
    {
     "data": {
      "text/plain": [
       "array(['purchase'], dtype=object)"
      ]
     },
     "execution_count": 30,
     "metadata": {},
     "output_type": "execute_result"
    }
   ],
   "source": [
    "paying_users_df.event_type.unique()"
   ]
  },
  {
   "cell_type": "code",
   "execution_count": 31,
   "metadata": {},
   "outputs": [],
   "source": [
    "first_purchases = paying_users_df.sort_values('event_date').groupby('user_id').first()"
   ]
  },
  {
   "cell_type": "code",
   "execution_count": 32,
   "metadata": {},
   "outputs": [],
   "source": [
    "first_purchases['time_delta'] = (first_purchases['event_date'] - first_purchases['reg_date']\n",
    "                                                                            ) // np.timedelta64(1, 's')"
   ]
  },
  {
   "cell_type": "code",
   "execution_count": 33,
   "metadata": {},
   "outputs": [
    {
     "data": {
      "text/plain": [
       "434774.0"
      ]
     },
     "execution_count": 33,
     "metadata": {},
     "output_type": "execute_result"
    }
   ],
   "source": [
    "first_purchases['time_delta'].median()"
   ]
  },
  {
   "cell_type": "markdown",
   "metadata": {},
   "source": [
    "# Часть 2. Функции\n",
    "\n",
    "#### Задача 7.\n",
    "Написать функцию *is_prime(number)*, принимающую 1 аргумент — число, и возвращающую *True*, если оно простое, и *False* — иначе. Пользоваться циклом нельзя."
   ]
  },
  {
   "cell_type": "code",
   "execution_count": 34,
   "metadata": {},
   "outputs": [],
   "source": [
    "def is_prime(number: int) -> bool:\n",
    "    \"\"\"\n",
    "    Returns True, if the number is prime, else False.\n",
    "    \"\"\"\n",
    "    if number < 1:\n",
    "        return False\n",
    "    def check_div(n, d):\n",
    "        if d == 1:\n",
    "            return True\n",
    "        elif n % d == 0:\n",
    "            return False\n",
    "        else:\n",
    "            return check_div(n, d - 1)\n",
    "    d = int(number ** 0.5)\n",
    "    if check_div(number, d):\n",
    "        return True\n",
    "    else:\n",
    "        return False"
   ]
  },
  {
   "cell_type": "code",
   "execution_count": 35,
   "metadata": {},
   "outputs": [
    {
     "data": {
      "text/plain": [
       "True"
      ]
     },
     "execution_count": 35,
     "metadata": {},
     "output_type": "execute_result"
    }
   ],
   "source": [
    "is_prime(5)"
   ]
  },
  {
   "cell_type": "code",
   "execution_count": 36,
   "metadata": {},
   "outputs": [
    {
     "data": {
      "text/plain": [
       "False"
      ]
     },
     "execution_count": 36,
     "metadata": {},
     "output_type": "execute_result"
    }
   ],
   "source": [
    "is_prime(100)"
   ]
  },
  {
   "cell_type": "markdown",
   "metadata": {},
   "source": [
    "#### Задача 8.\n",
    "В разных папках лежат разные файлы. Нужно из всех папок извлечь эти файлы и\n",
    "пронумеровать их по порядку (*либо по порядку извлечения, либо в алфавитном порядке)* и распечатать построчно в формате: номер, название файла. Требование — программа работает для любой степени вложенности папок.\n",
    "Написать функцию *file_numerator(path)*, которая на вход принимает строку — путь до директории, ничего не возвращает, печатает в output строки: “номер, название файла” (без кавычек)"
   ]
  },
  {
   "cell_type": "code",
   "execution_count": 37,
   "metadata": {},
   "outputs": [],
   "source": [
    "import os\n",
    "\n",
    "def file_numerator(path: str) -> None:\n",
    "    \"\"\"\n",
    "    Prints the name and serial number of files in the path directory.\n",
    "    \"\"\"\n",
    "    n = 0\n",
    "    for root, dirs, files in os.walk(path, topdown=False):\n",
    "        for name in files:\n",
    "            n += 1\n",
    "            print(n, name)"
   ]
  },
  {
   "cell_type": "markdown",
   "metadata": {},
   "source": [
    "#### Задача 9.\n",
    "Написать рекурсивную функцию *palindrome(string)*, определяющую, является входная строка палиндромом (читается с обоих концов одинаково)."
   ]
  },
  {
   "cell_type": "code",
   "execution_count": 38,
   "metadata": {},
   "outputs": [],
   "source": [
    "def palindrome(string: str) -> bool:\n",
    "    \"\"\"\n",
    "    Returns True, if the string is palindrome, else False.\n",
    "    \"\"\"\n",
    "    if len(string) < 2:\n",
    "        return True\n",
    "    if len(string) >= 2:\n",
    "        if string[0] == string[-1]:\n",
    "            return palindrome(string[1:-1])\n",
    "        else:\n",
    "            return False"
   ]
  },
  {
   "cell_type": "code",
   "execution_count": 39,
   "metadata": {},
   "outputs": [
    {
     "data": {
      "text/plain": [
       "False"
      ]
     },
     "execution_count": 39,
     "metadata": {},
     "output_type": "execute_result"
    }
   ],
   "source": [
    "palindrome('1aabaab')"
   ]
  },
  {
   "cell_type": "code",
   "execution_count": 40,
   "metadata": {},
   "outputs": [
    {
     "data": {
      "text/plain": [
       "True"
      ]
     },
     "execution_count": 40,
     "metadata": {},
     "output_type": "execute_result"
    }
   ],
   "source": [
    "palindrome('aaaa')"
   ]
  },
  {
   "cell_type": "markdown",
   "metadata": {},
   "source": [
    "#### Задача 10.\n",
    "Написать функцию *merge_sort(arr)*, выполняющую сортировку слиянием с помощью рекурсии."
   ]
  },
  {
   "cell_type": "code",
   "execution_count": 41,
   "metadata": {},
   "outputs": [],
   "source": [
    "from typing import List"
   ]
  },
  {
   "cell_type": "code",
   "execution_count": 42,
   "metadata": {},
   "outputs": [],
   "source": [
    "def merge_sort(arr: List[int]) -> List[int]:\n",
    "    \"\"\"\n",
    "    Returns the array sorted with merge sort algorithm.\n",
    "    \"\"\"\n",
    "    if len(arr) < 2:\n",
    "        return arr\n",
    "    mid_index = len(arr) // 2\n",
    "    left, right = arr[:mid_index], arr[mid_index:]\n",
    "    left = merge_sort(left)\n",
    "    right = merge_sort(right)\n",
    "    def merge_two_arrays(array1: List[int], array2: List[int]) -> List[int]:\n",
    "        \"\"\"\n",
    "        Returns the merged from array1 and array2 sorted array.\n",
    "        \"\"\"\n",
    "        ret_list = []\n",
    "        i, j = 0, 0\n",
    "        while i < len(array1) and j < len(array2):\n",
    "            if array1[i] < array2[j]:\n",
    "                ret_list.append(array1[i])\n",
    "                i += 1\n",
    "            else:\n",
    "                ret_list.append(array2[j])\n",
    "                j += 1\n",
    "        return ret_list + array1[i:] + array2[j:]\n",
    "    return merge_two_arrays(left, right)"
   ]
  },
  {
   "cell_type": "code",
   "execution_count": 43,
   "metadata": {},
   "outputs": [
    {
     "data": {
      "text/plain": [
       "[0, 1, 2, 2, 3, 3, 5, 9]"
      ]
     },
     "execution_count": 43,
     "metadata": {},
     "output_type": "execute_result"
    }
   ],
   "source": [
    "merge_sort([1, 5, 3, 9, 0, 2, 3, 2])"
   ]
  },
  {
   "cell_type": "code",
   "execution_count": null,
   "metadata": {},
   "outputs": [],
   "source": []
  }
 ],
 "metadata": {
  "hide_input": false,
  "kernelspec": {
   "display_name": "Python 3 (ipykernel)",
   "language": "python",
   "name": "python3"
  },
  "language_info": {
   "codemirror_mode": {
    "name": "ipython",
    "version": 3
   },
   "file_extension": ".py",
   "mimetype": "text/x-python",
   "name": "python",
   "nbconvert_exporter": "python",
   "pygments_lexer": "ipython3",
   "version": "3.9.12"
  },
  "toc": {
   "base_numbering": 1,
   "nav_menu": {},
   "number_sections": true,
   "sideBar": true,
   "skip_h1_title": false,
   "title_cell": "Table of Contents",
   "title_sidebar": "Contents",
   "toc_cell": false,
   "toc_position": {},
   "toc_section_display": true,
   "toc_window_display": false
  },
  "varInspector": {
   "cols": {
    "lenName": 16,
    "lenType": 16,
    "lenVar": 40
   },
   "kernels_config": {
    "python": {
     "delete_cmd_postfix": "",
     "delete_cmd_prefix": "del ",
     "library": "var_list.py",
     "varRefreshCmd": "print(var_dic_list())"
    },
    "r": {
     "delete_cmd_postfix": ") ",
     "delete_cmd_prefix": "rm(",
     "library": "var_list.r",
     "varRefreshCmd": "cat(var_dic_list()) "
    }
   },
   "types_to_exclude": [
    "module",
    "function",
    "builtin_function_or_method",
    "instance",
    "_Feature"
   ],
   "window_display": false
  }
 },
 "nbformat": 4,
 "nbformat_minor": 4
}
